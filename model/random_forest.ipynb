{
 "cells": [
  {
   "cell_type": "code",
   "execution_count": 2,
   "id": "283b0717",
   "metadata": {},
   "outputs": [],
   "source": [
    "from pyspark.ml.classification import RandomForestClassifier\n",
    "from pyspark.ml.feature import StringIndexer, VectorAssembler\n",
    "from pyspark.mllib.evaluation import MulticlassMetrics\n",
    "from sklearn.metrics import classification_report\n",
    "import pandas as pd"
   ]
  },
  {
   "cell_type": "code",
   "execution_count": 3,
   "id": "53e76e8f",
   "metadata": {},
   "outputs": [],
   "source": [
    "def randomforest(df):\n",
    "\n",
    "    #Convert the categorical column label_position to numerical column\n",
    "    indexer = StringIndexer(inputCol=\"label_position\", outputCol=\"label_position_index\")\n",
    "    df = indexer.fit(df).transform(df)\n",
    "\n",
    "    #Drop the label_position column to only get the features\n",
    "    list_of_features = df.drop(\"label_position\").drop(\"label_position_index\").columns\n",
    "\n",
    "    assembler = VectorAssembler(inputCols=list_of_features, outputCol=\"indexed_features\")\n",
    "    df = assembler.transform(df)\n",
    "\n",
    "    #Train random forest model and get the predictions from test set\n",
    "    trainingData, testData = df.randomSplit([0.67, 0.33],24)\n",
    "    rf = RandomForestClassifier(labelCol=\"label_position_index\", featuresCol=\"indexed_features\", numTrees=10, maxDepth=5)\n",
    "    model = rf.fit(trainingData)\n",
    "    predictions = model.transform(testData)\n",
    "\n",
    "    #Generate classification ceport and confusion matrix\n",
    "    predictions_and_labels = predictions.select(\"prediction\", \"label_position_index\").rdd\n",
    "    predictions_and_labels_pd= predictions.select(\"prediction\", \"label_position_index\").toPandas()\n",
    "\n",
    "    # Generate confusion matrix\n",
    "    metrics = MulticlassMetrics(predictions_and_labels)\n",
    "    confusion_matrix = metrics.confusionMatrix().toArray()\n",
    "\n",
    "    # Generate classification report\n",
    "    class_report_dict = classification_report(predictions_and_labels_pd['label_position_index'],\n",
    "                                              predictions_and_labels_pd['prediction'], output_dict=True)\n",
    "    class_report_df = pd.DataFrame.from_dict(class_report_dict).transpose()\n",
    "\n",
    "    print(\"Classification Report:\")\n",
    "    print(class_report_df)\n",
    "    print(\"\\n\")\n",
    "    print(\"Confusion Matrix:\")\n",
    "    print(confusion_matrix)\n",
    "\n",
    "    return predictions"
   ]
  }
 ],
 "metadata": {
  "kernelspec": {
   "display_name": "Python 3 (ipykernel)",
   "language": "python",
   "name": "python3"
  },
  "language_info": {
   "codemirror_mode": {
    "name": "ipython",
    "version": 3
   },
   "file_extension": ".py",
   "mimetype": "text/x-python",
   "name": "python",
   "nbconvert_exporter": "python",
   "pygments_lexer": "ipython3",
   "version": "3.11.0"
  }
 },
 "nbformat": 4,
 "nbformat_minor": 5
}
