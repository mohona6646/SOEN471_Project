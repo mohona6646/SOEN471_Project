{
 "cells": [
  {
   "cell_type": "markdown",
   "metadata": {},
   "source": [
    "### Imports / Spark Initialization"
   ]
  },
  {
   "cell_type": "code",
   "execution_count": null,
   "metadata": {},
   "outputs": [],
   "source": [
    "from pyspark.sql import SparkSession\n",
    "from pyspark.sql.functions import split, when\n",
    "\n",
    "import findspark\n",
    "import pandas as pd\n",
    "\n",
    "findspark.init()\n",
    "\n",
    "\n",
    "# Initialize a spark session.\n",
    "def init_spark():\n",
    "    spark = (\n",
    "        SparkSession.builder.appName(\"SOEN 471 Project\")\n",
    "        .config(\"spark.some.config.option\", \"some-value\")\n",
    "        .getOrCreate()\n",
    "    )\n",
    "    return spark"
   ]
  },
  {
   "cell_type": "markdown",
   "metadata": {},
   "source": [
    "### Sample of Initial Data"
   ]
  },
  {
   "cell_type": "code",
   "execution_count": null,
   "metadata": {},
   "outputs": [],
   "source": [
    "spark = init_spark()\n",
    "df = spark.read.csv(\"notebook_data.csv\", header=True)\n",
    "players = df.select(\n",
    "        \"player_positions\",\n",
    "        \"overall\",\n",
    "        \"skill_moves\",\n",
    "        \"pace\",\n",
    "        \"shooting\",\n",
    "        \"passing\",\n",
    "        \"dribbling\",\n",
    "        \"defending\",\n",
    "        \"physic\",\n",
    "        \"attacking_crossing\",\n",
    "        \"attacking_finishing\",\n",
    "        \"attacking_heading_accuracy\",\n",
    "        \"attacking_short_passing\",\n",
    "        \"attacking_volleys\",\n",
    "        \"skill_dribbling\",\n",
    "        \"skill_curve\",\n",
    "        \"skill_fk_accuracy\",\n",
    "        \"skill_long_passing\",\n",
    "        \"skill_ball_control\",\n",
    "        \"movement_acceleration\",\n",
    "        \"movement_sprint_speed\",\n",
    "        \"movement_agility\",\n",
    "        \"movement_reactions\",\n",
    "        \"movement_balance\",\n",
    "        \"power_shot_power\",\n",
    "        \"power_jumping\",\n",
    "        \"power_stamina\",\n",
    "        \"power_strength\",\n",
    "        \"power_long_shots\",\n",
    "        \"mentality_aggression\",\n",
    "        \"mentality_interceptions\",\n",
    "        \"mentality_positioning\",\n",
    "        \"mentality_vision\",\n",
    "        \"mentality_penalties\",\n",
    "        \"mentality_composure\",\n",
    "        \"defending_marking_awareness\",\n",
    "        \"defending_standing_tackle\",\n",
    "        \"defending_sliding_tackle\",\n",
    "        \"goalkeeping_diving\",\n",
    "        \"goalkeeping_handling\",\n",
    "        \"goalkeeping_kicking\",\n",
    "        \"goalkeeping_positioning\",\n",
    "        \"goalkeeping_reflexes\",\n",
    "        \"goalkeeping_speed\",\n",
    "    ).take(3)\n",
    "print(players)"
   ]
  },
  {
   "cell_type": "code",
   "execution_count": null,
   "metadata": {},
   "outputs": [],
   "source": [
    "# Converts FIFA-defined positions to one of our three labels.\n",
    "def label_conversion(player_position):\n",
    "    player_position = (\n",
    "        when(player_position.isin([\"CB\", \"RB\", \"LB\", \"RWB\", \"LWB\"]), \"Defender\")\n",
    "        .when(player_position.isin([\"CM\", \"CDM\", \"CAM\", \"RM\", \"LM\"]), \"Midfielder\")\n",
    "        .when(player_position.isin([\"ST\", \"CF\", \"RF\", \"LF\", \"RW\", \"LW\"]), \"Forward\")\n",
    "        .otherwise(\"Undefined\")\n",
    "    )\n",
    "\n",
    "    return player_position"
   ]
  }
 ],
 "metadata": {
  "kernelspec": {
   "display_name": "Python 3 (ipykernel)",
   "language": "python",
   "name": "python3"
  },
  "language_info": {
   "codemirror_mode": {
    "name": "ipython",
    "version": 3
   },
   "file_extension": ".py",
   "mimetype": "text/x-python",
   "name": "python",
   "nbconvert_exporter": "python",
   "pygments_lexer": "ipython3",
   "version": "3.10.0"
  }
 },
 "nbformat": 4,
 "nbformat_minor": 2
}
