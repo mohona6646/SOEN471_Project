{
 "cells": [
  {
   "cell_type": "markdown",
   "id": "0cdac400",
   "metadata": {},
   "source": [
    "## Supervised Classification Algorithms"
   ]
  },
  {
   "cell_type": "markdown",
   "id": "898f0420",
   "metadata": {},
   "source": [
    "### Split the data set into a training set and test set"
   ]
  },
  {
   "cell_type": "code",
   "execution_count": null,
   "id": "5a9974b2",
   "metadata": {},
   "outputs": [],
   "source": [
    "from data_processing import *\n",
    "import matplotlib.pyplot as plt\n",
    "players = data_preparation(\n",
    "        \"../data/male_players.csv\"\n",
    ")\n",
    "trainingSet, testSet = players.randomSplit([0.67, 0.33], 24)\n",
    "plt.plot(trainingSet,testSet)\n",
    "plt.show()"
   ]
  },
  {
   "cell_type": "code",
   "execution_count": null,
   "id": "24ddebf8",
   "metadata": {},
   "outputs": [],
   "source": []
  },
  {
   "cell_type": "code",
   "execution_count": null,
   "id": "5fe10c5e",
   "metadata": {},
   "outputs": [],
   "source": []
  }
 ],
 "metadata": {
  "kernelspec": {
   "display_name": "Python 3 (ipykernel)",
   "language": "python",
   "name": "python3"
  },
  "language_info": {
   "codemirror_mode": {
    "name": "ipython",
    "version": 3
   },
   "file_extension": ".py",
   "mimetype": "text/x-python",
   "name": "python",
   "nbconvert_exporter": "python",
   "pygments_lexer": "ipython3",
   "version": "3.10.7"
  }
 },
 "nbformat": 4,
 "nbformat_minor": 5
}
