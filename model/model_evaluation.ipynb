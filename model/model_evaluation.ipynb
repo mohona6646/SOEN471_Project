{
 "cells": [
  {
   "attachments": {},
   "cell_type": "markdown",
   "id": "d8376295",
   "metadata": {},
   "source": [
    "# SOEN 471 Project"
   ]
  },
  {
   "attachments": {},
   "cell_type": "markdown",
   "id": "eeb75e96",
   "metadata": {},
   "source": [
    "The objective of our project is to train a data model to classify football players into different posiitons (Forward, Midfielder, Defender), based on both their skill and performance characteristics, utilizing **supervised classification**."
   ]
  },
  {
   "attachments": {},
   "cell_type": "markdown",
   "id": "a87762b4",
   "metadata": {},
   "source": [
    "Our training models are based on three algorithms: **Decision Tree**, **Random Forest** and **K-Nearest Neighbors (KNN)**."
   ]
  },
  {
   "attachments": {},
   "cell_type": "markdown",
   "id": "cd7de14e",
   "metadata": {},
   "source": [
    "## 1. Data Preparation"
   ]
  },
  {
   "cell_type": "markdown",
   "id": "1f7e794f",
   "metadata": {},
   "source": [
    "### Import libraries"
   ]
  },
  {
   "cell_type": "code",
   "execution_count": 11,
   "id": "53dba7d8",
   "metadata": {},
   "outputs": [],
   "source": [
    "import pandas as pd\n",
    "import matplotlib.pyplot as pl\n",
    "import pathlib\n",
    "import shutil\n",
    "import numpy as np\n",
    "import pyspark.sql.functions as F\n",
    "import findspark\n",
    "import os\n",
    "import sys\n",
    "\n",
    "from data_processing import *\n",
    "from datetime import datetime\n",
    "\n",
    "from IPython.display import display\n",
    "\n",
    "from pyspark.sql.types import IntegerType\n",
    "from pyspark.sql import SparkSession\n",
    "from pyspark.sql.functions import split, when, col\n",
    "from pyspark.ml.classification import DecisionTreeClassifier as DTC, RandomForestClassifier as RFC\n",
    "from pyspark.sql.functions import array, col, monotonically_increasing_id, row_number\n",
    "from pyspark.sql.window import Window\n",
    "from pyspark.mllib.evaluation import MulticlassMetrics\n",
    "from pyspark.ml.feature import StringIndexer,VectorAssembler\n",
    "\n",
    "from sklearn.metrics import classification_report, confusion_matrix, ConfusionMatrixDisplay\n",
    "from sklearn.neighbors import KNeighborsClassifier\n",
    "from sklearn.ensemble import RandomForestClassifier\n",
    "from sklearn.tree import DecisionTreeClassifier"
   ]
  },
  {
   "attachments": {},
   "cell_type": "markdown",
   "id": "81319f04",
   "metadata": {},
   "source": [
    "### Spark Initialization/ Environment Setup"
   ]
  },
  {
   "cell_type": "code",
   "execution_count": 12,
   "id": "2121b1b3",
   "metadata": {},
   "outputs": [],
   "source": [
    "os.environ['PYSPARK_PYTHON'] = sys.executable\n",
    "os.environ['PYSPARK_DRIVER_PYTHON'] = sys.executable\n",
    "\n",
    "findspark.init()\n",
    "\n",
    "def init_spark():\n",
    "    spark = (\n",
    "        SparkSession.builder.appName(\"SOEN 471 Project\")\n",
    "        .config(\"spark.some.config.option\", \"some-value\")\n",
    "        .getOrCreate()\n",
    "    )\n",
    "    return spark"
   ]
  },
  {
   "cell_type": "markdown",
   "id": "b86ac211",
   "metadata": {},
   "source": [
    "### Sample of Initial Data"
   ]
  },
  {
   "attachments": {},
   "cell_type": "markdown",
   "id": "502010c6",
   "metadata": {},
   "source": [
    "<p>Initial row count is of 10,003,590 values, and dataset contains a total of 110 different features.</p>"
   ]
  },
  {
   "cell_type": "code",
   "execution_count": 13,
   "id": "1abcbd6b",
   "metadata": {},
   "outputs": [
    {
     "data": {
      "text/html": [
       "<div>\n",
       "<style scoped>\n",
       "    .dataframe tbody tr th:only-of-type {\n",
       "        vertical-align: middle;\n",
       "    }\n",
       "\n",
       "    .dataframe tbody tr th {\n",
       "        vertical-align: top;\n",
       "    }\n",
       "\n",
       "    .dataframe thead th {\n",
       "        text-align: right;\n",
       "    }\n",
       "</style>\n",
       "<table border=\"1\" class=\"dataframe\">\n",
       "  <thead>\n",
       "    <tr style=\"text-align: right;\">\n",
       "      <th></th>\n",
       "      <th>player_id</th>\n",
       "      <th>player_url</th>\n",
       "      <th>fifa_version</th>\n",
       "      <th>fifa_update</th>\n",
       "      <th>fifa_update_date</th>\n",
       "      <th>short_name</th>\n",
       "      <th>long_name</th>\n",
       "      <th>player_positions</th>\n",
       "      <th>overall</th>\n",
       "      <th>potential</th>\n",
       "      <th>...</th>\n",
       "      <th>cdm</th>\n",
       "      <th>rdm</th>\n",
       "      <th>rwb</th>\n",
       "      <th>lb</th>\n",
       "      <th>lcb</th>\n",
       "      <th>cb</th>\n",
       "      <th>rcb</th>\n",
       "      <th>rb</th>\n",
       "      <th>gk</th>\n",
       "      <th>player_face_url</th>\n",
       "    </tr>\n",
       "  </thead>\n",
       "  <tbody>\n",
       "    <tr>\n",
       "      <th>0</th>\n",
       "      <td>158023</td>\n",
       "      <td>/player/158023/lionel-messi/230009</td>\n",
       "      <td>23</td>\n",
       "      <td>9</td>\n",
       "      <td>2023-01-13</td>\n",
       "      <td>L. Messi</td>\n",
       "      <td>Lionel Andrés Messi Cuccittini</td>\n",
       "      <td>RW</td>\n",
       "      <td>91</td>\n",
       "      <td>91</td>\n",
       "      <td>...</td>\n",
       "      <td>63+3</td>\n",
       "      <td>63+3</td>\n",
       "      <td>64+3</td>\n",
       "      <td>59+3</td>\n",
       "      <td>50+3</td>\n",
       "      <td>50+3</td>\n",
       "      <td>50+3</td>\n",
       "      <td>59+3</td>\n",
       "      <td>19+3</td>\n",
       "      <td>https://cdn.sofifa.net/players/158/023/23_120.png</td>\n",
       "    </tr>\n",
       "    <tr>\n",
       "      <th>1</th>\n",
       "      <td>165153</td>\n",
       "      <td>/player/165153/karim-benzema/230009</td>\n",
       "      <td>23</td>\n",
       "      <td>9</td>\n",
       "      <td>2023-01-13</td>\n",
       "      <td>K. Benzema</td>\n",
       "      <td>Karim Benzema</td>\n",
       "      <td>CF, ST</td>\n",
       "      <td>91</td>\n",
       "      <td>91</td>\n",
       "      <td>...</td>\n",
       "      <td>64+3</td>\n",
       "      <td>64+3</td>\n",
       "      <td>64+3</td>\n",
       "      <td>60+3</td>\n",
       "      <td>55+3</td>\n",
       "      <td>55+3</td>\n",
       "      <td>55+3</td>\n",
       "      <td>60+3</td>\n",
       "      <td>18+3</td>\n",
       "      <td>https://cdn.sofifa.net/players/165/153/23_120.png</td>\n",
       "    </tr>\n",
       "    <tr>\n",
       "      <th>2</th>\n",
       "      <td>188545</td>\n",
       "      <td>/player/188545/robert-lewandowski/230009</td>\n",
       "      <td>23</td>\n",
       "      <td>9</td>\n",
       "      <td>2023-01-13</td>\n",
       "      <td>R. Lewandowski</td>\n",
       "      <td>Robert Lewandowski</td>\n",
       "      <td>ST</td>\n",
       "      <td>91</td>\n",
       "      <td>91</td>\n",
       "      <td>...</td>\n",
       "      <td>66+3</td>\n",
       "      <td>66+3</td>\n",
       "      <td>64+3</td>\n",
       "      <td>61+3</td>\n",
       "      <td>60+3</td>\n",
       "      <td>60+3</td>\n",
       "      <td>60+3</td>\n",
       "      <td>61+3</td>\n",
       "      <td>19+3</td>\n",
       "      <td>https://cdn.sofifa.net/players/188/545/23_120.png</td>\n",
       "    </tr>\n",
       "    <tr>\n",
       "      <th>3</th>\n",
       "      <td>192985</td>\n",
       "      <td>/player/192985/kevin-de-bruyne/230009</td>\n",
       "      <td>23</td>\n",
       "      <td>9</td>\n",
       "      <td>2023-01-13</td>\n",
       "      <td>K. De Bruyne</td>\n",
       "      <td>Kevin De Bruyne</td>\n",
       "      <td>CM, CAM</td>\n",
       "      <td>91</td>\n",
       "      <td>91</td>\n",
       "      <td>...</td>\n",
       "      <td>79+3</td>\n",
       "      <td>79+3</td>\n",
       "      <td>78+3</td>\n",
       "      <td>74+3</td>\n",
       "      <td>68+3</td>\n",
       "      <td>68+3</td>\n",
       "      <td>68+3</td>\n",
       "      <td>74+3</td>\n",
       "      <td>21+3</td>\n",
       "      <td>https://cdn.sofifa.net/players/192/985/23_120.png</td>\n",
       "    </tr>\n",
       "    <tr>\n",
       "      <th>4</th>\n",
       "      <td>231747</td>\n",
       "      <td>/player/231747/kylian-mbappe/230009</td>\n",
       "      <td>23</td>\n",
       "      <td>9</td>\n",
       "      <td>2023-01-13</td>\n",
       "      <td>K. Mbappé</td>\n",
       "      <td>Kylian Mbappé Lottin</td>\n",
       "      <td>ST, LW</td>\n",
       "      <td>91</td>\n",
       "      <td>95</td>\n",
       "      <td>...</td>\n",
       "      <td>63+3</td>\n",
       "      <td>63+3</td>\n",
       "      <td>67+3</td>\n",
       "      <td>63+3</td>\n",
       "      <td>54+3</td>\n",
       "      <td>54+3</td>\n",
       "      <td>54+3</td>\n",
       "      <td>63+3</td>\n",
       "      <td>18+3</td>\n",
       "      <td>https://cdn.sofifa.net/players/231/747/23_120.png</td>\n",
       "    </tr>\n",
       "  </tbody>\n",
       "</table>\n",
       "<p>5 rows × 110 columns</p>\n",
       "</div>"
      ],
      "text/plain": [
       "  player_id                                player_url fifa_version  \\\n",
       "0    158023        /player/158023/lionel-messi/230009           23   \n",
       "1    165153       /player/165153/karim-benzema/230009           23   \n",
       "2    188545  /player/188545/robert-lewandowski/230009           23   \n",
       "3    192985     /player/192985/kevin-de-bruyne/230009           23   \n",
       "4    231747       /player/231747/kylian-mbappe/230009           23   \n",
       "\n",
       "  fifa_update fifa_update_date      short_name  \\\n",
       "0           9       2023-01-13        L. Messi   \n",
       "1           9       2023-01-13      K. Benzema   \n",
       "2           9       2023-01-13  R. Lewandowski   \n",
       "3           9       2023-01-13    K. De Bruyne   \n",
       "4           9       2023-01-13       K. Mbappé   \n",
       "\n",
       "                        long_name player_positions overall potential  ...  \\\n",
       "0  Lionel Andrés Messi Cuccittini               RW      91        91  ...   \n",
       "1                   Karim Benzema           CF, ST      91        91  ...   \n",
       "2              Robert Lewandowski               ST      91        91  ...   \n",
       "3                 Kevin De Bruyne          CM, CAM      91        91  ...   \n",
       "4            Kylian Mbappé Lottin           ST, LW      91        95  ...   \n",
       "\n",
       "    cdm   rdm   rwb    lb   lcb    cb   rcb    rb    gk  \\\n",
       "0  63+3  63+3  64+3  59+3  50+3  50+3  50+3  59+3  19+3   \n",
       "1  64+3  64+3  64+3  60+3  55+3  55+3  55+3  60+3  18+3   \n",
       "2  66+3  66+3  64+3  61+3  60+3  60+3  60+3  61+3  19+3   \n",
       "3  79+3  79+3  78+3  74+3  68+3  68+3  68+3  74+3  21+3   \n",
       "4  63+3  63+3  67+3  63+3  54+3  54+3  54+3  63+3  18+3   \n",
       "\n",
       "                                     player_face_url  \n",
       "0  https://cdn.sofifa.net/players/158/023/23_120.png  \n",
       "1  https://cdn.sofifa.net/players/165/153/23_120.png  \n",
       "2  https://cdn.sofifa.net/players/188/545/23_120.png  \n",
       "3  https://cdn.sofifa.net/players/192/985/23_120.png  \n",
       "4  https://cdn.sofifa.net/players/231/747/23_120.png  \n",
       "\n",
       "[5 rows x 110 columns]"
      ]
     },
     "metadata": {},
     "output_type": "display_data"
    }
   ],
   "source": [
    "data_dir = os.path.join(os.path.dirname(os.getcwd()), 'data')\n",
    "\n",
    "spark = init_spark()\n",
    "\n",
    "df1 = spark.read.csv(os.path.join(data_dir, 'male_players1.csv'), header=True)\n",
    "df2 = spark.read.csv(os.path.join(data_dir, 'male_players2.csv'), header=True)\n",
    "df3 = spark.read.csv(os.path.join(data_dir, 'male_players3.csv'), header=True)\n",
    "df4 = spark.read.csv(os.path.join(data_dir, 'male_players4.csv'), header=True)\n",
    "df5 = spark.read.csv(os.path.join(data_dir, 'male_players5.csv'), header=True)\n",
    "df6 = spark.read.csv(os.path.join(data_dir, 'male_players6.csv'), header=True)\n",
    "\n",
    "players = df1.union(df2).union(df3).union(df4).union(df5).union(df6)\n",
    "\n",
    "sample = players.take(5)\n",
    "sample = pd.DataFrame(sample, columns=sample[0].__fields__)\n",
    "sample = sample.drop(sample.columns[0], axis=1)\n",
    "\n",
    "display(sample)"
   ]
  },
  {
   "attachments": {},
   "cell_type": "markdown",
   "id": "392a09d9",
   "metadata": {},
   "source": [
    "### Sample of Final Data"
   ]
  },
  {
   "attachments": {},
   "cell_type": "markdown",
   "id": "14bc3645",
   "metadata": {},
   "source": [
    "<p>Summary of all steps performed in the data preparation phase:</p>\n",
    "<li>Select all field-related features.\n",
    "<li>Discard all goalkeepers / goal-keeping attributes from the dataset (too many null values).\n",
    "<li>Drop features that are not discriminative towards any class (same values can easily be obtained by players of all classes).\n",
    "<li>Select most preferred position for each player.\n",
    "<li>Convert FIFA-defined position (RW, CF, ST) to one of three labels (Forward, Midfielder, or Defender).\n",
    "<li>Drop null rows.\n",
    "<li>Cast all values to integers."
   ]
  },
  {
   "attachments": {},
   "cell_type": "markdown",
   "id": "c05adc96",
   "metadata": {},
   "source": [
    "<p>Total number of features: 28\n",
    "\n",
    "Reduced our row count from 10,003,590 to 8,882,438.<p>"
   ]
  },
  {
   "cell_type": "code",
   "execution_count": 14,
   "id": "ce6521ae",
   "metadata": {},
   "outputs": [
    {
     "data": {
      "text/html": [
       "<div>\n",
       "<style scoped>\n",
       "    .dataframe tbody tr th:only-of-type {\n",
       "        vertical-align: middle;\n",
       "    }\n",
       "\n",
       "    .dataframe tbody tr th {\n",
       "        vertical-align: top;\n",
       "    }\n",
       "\n",
       "    .dataframe thead th {\n",
       "        text-align: right;\n",
       "    }\n",
       "</style>\n",
       "<table border=\"1\" class=\"dataframe\">\n",
       "  <thead>\n",
       "    <tr style=\"text-align: right;\">\n",
       "      <th></th>\n",
       "      <th>pace</th>\n",
       "      <th>shooting</th>\n",
       "      <th>passing</th>\n",
       "      <th>dribbling</th>\n",
       "      <th>defending</th>\n",
       "      <th>attacking_crossing</th>\n",
       "      <th>attacking_finishing</th>\n",
       "      <th>attacking_heading_accuracy</th>\n",
       "      <th>attacking_short_passing</th>\n",
       "      <th>attacking_volleys</th>\n",
       "      <th>...</th>\n",
       "      <th>power_shot_power</th>\n",
       "      <th>power_stamina</th>\n",
       "      <th>power_long_shots</th>\n",
       "      <th>mentality_interceptions</th>\n",
       "      <th>mentality_positioning</th>\n",
       "      <th>mentality_penalties</th>\n",
       "      <th>defending_marking_awareness</th>\n",
       "      <th>defending_standing_tackle</th>\n",
       "      <th>defending_sliding_tackle</th>\n",
       "      <th>label_position</th>\n",
       "    </tr>\n",
       "  </thead>\n",
       "  <tbody>\n",
       "    <tr>\n",
       "      <th>0</th>\n",
       "      <td>81</td>\n",
       "      <td>89</td>\n",
       "      <td>90</td>\n",
       "      <td>94</td>\n",
       "      <td>34</td>\n",
       "      <td>84</td>\n",
       "      <td>90</td>\n",
       "      <td>70</td>\n",
       "      <td>91</td>\n",
       "      <td>88</td>\n",
       "      <td>...</td>\n",
       "      <td>86</td>\n",
       "      <td>70</td>\n",
       "      <td>91</td>\n",
       "      <td>40</td>\n",
       "      <td>93</td>\n",
       "      <td>75</td>\n",
       "      <td>20</td>\n",
       "      <td>35</td>\n",
       "      <td>24</td>\n",
       "      <td>Forward</td>\n",
       "    </tr>\n",
       "    <tr>\n",
       "      <th>1</th>\n",
       "      <td>80</td>\n",
       "      <td>88</td>\n",
       "      <td>83</td>\n",
       "      <td>87</td>\n",
       "      <td>39</td>\n",
       "      <td>75</td>\n",
       "      <td>92</td>\n",
       "      <td>90</td>\n",
       "      <td>89</td>\n",
       "      <td>88</td>\n",
       "      <td>...</td>\n",
       "      <td>87</td>\n",
       "      <td>82</td>\n",
       "      <td>80</td>\n",
       "      <td>39</td>\n",
       "      <td>92</td>\n",
       "      <td>84</td>\n",
       "      <td>43</td>\n",
       "      <td>24</td>\n",
       "      <td>18</td>\n",
       "      <td>Forward</td>\n",
       "    </tr>\n",
       "    <tr>\n",
       "      <th>2</th>\n",
       "      <td>75</td>\n",
       "      <td>91</td>\n",
       "      <td>79</td>\n",
       "      <td>86</td>\n",
       "      <td>44</td>\n",
       "      <td>71</td>\n",
       "      <td>94</td>\n",
       "      <td>91</td>\n",
       "      <td>84</td>\n",
       "      <td>89</td>\n",
       "      <td>...</td>\n",
       "      <td>91</td>\n",
       "      <td>76</td>\n",
       "      <td>84</td>\n",
       "      <td>49</td>\n",
       "      <td>94</td>\n",
       "      <td>90</td>\n",
       "      <td>35</td>\n",
       "      <td>42</td>\n",
       "      <td>19</td>\n",
       "      <td>Forward</td>\n",
       "    </tr>\n",
       "    <tr>\n",
       "      <th>3</th>\n",
       "      <td>74</td>\n",
       "      <td>88</td>\n",
       "      <td>93</td>\n",
       "      <td>87</td>\n",
       "      <td>63</td>\n",
       "      <td>94</td>\n",
       "      <td>85</td>\n",
       "      <td>55</td>\n",
       "      <td>93</td>\n",
       "      <td>83</td>\n",
       "      <td>...</td>\n",
       "      <td>92</td>\n",
       "      <td>89</td>\n",
       "      <td>91</td>\n",
       "      <td>64</td>\n",
       "      <td>88</td>\n",
       "      <td>83</td>\n",
       "      <td>65</td>\n",
       "      <td>65</td>\n",
       "      <td>53</td>\n",
       "      <td>Midfielder</td>\n",
       "    </tr>\n",
       "    <tr>\n",
       "      <th>4</th>\n",
       "      <td>97</td>\n",
       "      <td>89</td>\n",
       "      <td>80</td>\n",
       "      <td>92</td>\n",
       "      <td>36</td>\n",
       "      <td>78</td>\n",
       "      <td>93</td>\n",
       "      <td>72</td>\n",
       "      <td>85</td>\n",
       "      <td>83</td>\n",
       "      <td>...</td>\n",
       "      <td>88</td>\n",
       "      <td>87</td>\n",
       "      <td>82</td>\n",
       "      <td>38</td>\n",
       "      <td>92</td>\n",
       "      <td>80</td>\n",
       "      <td>26</td>\n",
       "      <td>34</td>\n",
       "      <td>32</td>\n",
       "      <td>Forward</td>\n",
       "    </tr>\n",
       "    <tr>\n",
       "      <th>5</th>\n",
       "      <td>90</td>\n",
       "      <td>89</td>\n",
       "      <td>82</td>\n",
       "      <td>90</td>\n",
       "      <td>45</td>\n",
       "      <td>80</td>\n",
       "      <td>93</td>\n",
       "      <td>59</td>\n",
       "      <td>84</td>\n",
       "      <td>84</td>\n",
       "      <td>...</td>\n",
       "      <td>83</td>\n",
       "      <td>87</td>\n",
       "      <td>85</td>\n",
       "      <td>55</td>\n",
       "      <td>92</td>\n",
       "      <td>86</td>\n",
       "      <td>38</td>\n",
       "      <td>43</td>\n",
       "      <td>41</td>\n",
       "      <td>Forward</td>\n",
       "    </tr>\n",
       "    <tr>\n",
       "      <th>6</th>\n",
       "      <td>87</td>\n",
       "      <td>83</td>\n",
       "      <td>85</td>\n",
       "      <td>93</td>\n",
       "      <td>37</td>\n",
       "      <td>83</td>\n",
       "      <td>83</td>\n",
       "      <td>63</td>\n",
       "      <td>85</td>\n",
       "      <td>86</td>\n",
       "      <td>...</td>\n",
       "      <td>79</td>\n",
       "      <td>79</td>\n",
       "      <td>81</td>\n",
       "      <td>37</td>\n",
       "      <td>86</td>\n",
       "      <td>91</td>\n",
       "      <td>35</td>\n",
       "      <td>32</td>\n",
       "      <td>29</td>\n",
       "      <td>Forward</td>\n",
       "    </tr>\n",
       "    <tr>\n",
       "      <th>7</th>\n",
       "      <td>63</td>\n",
       "      <td>73</td>\n",
       "      <td>78</td>\n",
       "      <td>73</td>\n",
       "      <td>88</td>\n",
       "      <td>62</td>\n",
       "      <td>64</td>\n",
       "      <td>81</td>\n",
       "      <td>84</td>\n",
       "      <td>65</td>\n",
       "      <td>...</td>\n",
       "      <td>88</td>\n",
       "      <td>88</td>\n",
       "      <td>81</td>\n",
       "      <td>88</td>\n",
       "      <td>75</td>\n",
       "      <td>66</td>\n",
       "      <td>90</td>\n",
       "      <td>88</td>\n",
       "      <td>87</td>\n",
       "      <td>Midfielder</td>\n",
       "    </tr>\n",
       "    <tr>\n",
       "      <th>8</th>\n",
       "      <td>69</td>\n",
       "      <td>91</td>\n",
       "      <td>83</td>\n",
       "      <td>83</td>\n",
       "      <td>47</td>\n",
       "      <td>80</td>\n",
       "      <td>93</td>\n",
       "      <td>85</td>\n",
       "      <td>84</td>\n",
       "      <td>87</td>\n",
       "      <td>...</td>\n",
       "      <td>92</td>\n",
       "      <td>83</td>\n",
       "      <td>86</td>\n",
       "      <td>44</td>\n",
       "      <td>94</td>\n",
       "      <td>92</td>\n",
       "      <td>50</td>\n",
       "      <td>36</td>\n",
       "      <td>38</td>\n",
       "      <td>Forward</td>\n",
       "    </tr>\n",
       "    <tr>\n",
       "      <th>9</th>\n",
       "      <td>81</td>\n",
       "      <td>60</td>\n",
       "      <td>71</td>\n",
       "      <td>72</td>\n",
       "      <td>90</td>\n",
       "      <td>53</td>\n",
       "      <td>52</td>\n",
       "      <td>86</td>\n",
       "      <td>79</td>\n",
       "      <td>45</td>\n",
       "      <td>...</td>\n",
       "      <td>81</td>\n",
       "      <td>74</td>\n",
       "      <td>64</td>\n",
       "      <td>89</td>\n",
       "      <td>47</td>\n",
       "      <td>62</td>\n",
       "      <td>91</td>\n",
       "      <td>91</td>\n",
       "      <td>86</td>\n",
       "      <td>Defender</td>\n",
       "    </tr>\n",
       "  </tbody>\n",
       "</table>\n",
       "<p>10 rows × 28 columns</p>\n",
       "</div>"
      ],
      "text/plain": [
       "   pace  shooting  passing  dribbling  defending  attacking_crossing  \\\n",
       "0    81        89       90         94         34                  84   \n",
       "1    80        88       83         87         39                  75   \n",
       "2    75        91       79         86         44                  71   \n",
       "3    74        88       93         87         63                  94   \n",
       "4    97        89       80         92         36                  78   \n",
       "5    90        89       82         90         45                  80   \n",
       "6    87        83       85         93         37                  83   \n",
       "7    63        73       78         73         88                  62   \n",
       "8    69        91       83         83         47                  80   \n",
       "9    81        60       71         72         90                  53   \n",
       "\n",
       "   attacking_finishing  attacking_heading_accuracy  attacking_short_passing  \\\n",
       "0                   90                          70                       91   \n",
       "1                   92                          90                       89   \n",
       "2                   94                          91                       84   \n",
       "3                   85                          55                       93   \n",
       "4                   93                          72                       85   \n",
       "5                   93                          59                       84   \n",
       "6                   83                          63                       85   \n",
       "7                   64                          81                       84   \n",
       "8                   93                          85                       84   \n",
       "9                   52                          86                       79   \n",
       "\n",
       "   attacking_volleys  ...  power_shot_power  power_stamina  power_long_shots  \\\n",
       "0                 88  ...                86             70                91   \n",
       "1                 88  ...                87             82                80   \n",
       "2                 89  ...                91             76                84   \n",
       "3                 83  ...                92             89                91   \n",
       "4                 83  ...                88             87                82   \n",
       "5                 84  ...                83             87                85   \n",
       "6                 86  ...                79             79                81   \n",
       "7                 65  ...                88             88                81   \n",
       "8                 87  ...                92             83                86   \n",
       "9                 45  ...                81             74                64   \n",
       "\n",
       "   mentality_interceptions  mentality_positioning  mentality_penalties  \\\n",
       "0                       40                     93                   75   \n",
       "1                       39                     92                   84   \n",
       "2                       49                     94                   90   \n",
       "3                       64                     88                   83   \n",
       "4                       38                     92                   80   \n",
       "5                       55                     92                   86   \n",
       "6                       37                     86                   91   \n",
       "7                       88                     75                   66   \n",
       "8                       44                     94                   92   \n",
       "9                       89                     47                   62   \n",
       "\n",
       "   defending_marking_awareness  defending_standing_tackle  \\\n",
       "0                           20                         35   \n",
       "1                           43                         24   \n",
       "2                           35                         42   \n",
       "3                           65                         65   \n",
       "4                           26                         34   \n",
       "5                           38                         43   \n",
       "6                           35                         32   \n",
       "7                           90                         88   \n",
       "8                           50                         36   \n",
       "9                           91                         91   \n",
       "\n",
       "   defending_sliding_tackle  label_position  \n",
       "0                        24         Forward  \n",
       "1                        18         Forward  \n",
       "2                        19         Forward  \n",
       "3                        53      Midfielder  \n",
       "4                        32         Forward  \n",
       "5                        41         Forward  \n",
       "6                        29         Forward  \n",
       "7                        87      Midfielder  \n",
       "8                        38         Forward  \n",
       "9                        86        Defender  \n",
       "\n",
       "[10 rows x 28 columns]"
      ]
     },
     "metadata": {},
     "output_type": "display_data"
    }
   ],
   "source": [
    "players = players.select(\n",
    "        \"player_positions\",\n",
    "        \"pace\",\n",
    "        \"shooting\",\n",
    "        \"passing\",\n",
    "        \"dribbling\",\n",
    "        \"defending\",\n",
    "        \"attacking_crossing\",\n",
    "        \"attacking_finishing\",\n",
    "        \"attacking_heading_accuracy\",\n",
    "        \"attacking_short_passing\",\n",
    "        \"attacking_volleys\",\n",
    "        \"skill_dribbling\",\n",
    "        \"skill_fk_accuracy\",\n",
    "        \"skill_long_passing\",\n",
    "        \"skill_ball_control\",\n",
    "        \"movement_acceleration\",\n",
    "        \"movement_sprint_speed\",\n",
    "        \"movement_agility\",\n",
    "        \"movement_balance\",\n",
    "        \"power_shot_power\",\n",
    "        \"power_stamina\",\n",
    "        \"power_long_shots\",\n",
    "        \"mentality_interceptions\",\n",
    "        \"mentality_positioning\",\n",
    "        \"mentality_penalties\",\n",
    "        \"defending_marking_awareness\",\n",
    "        \"defending_standing_tackle\",\n",
    "        \"defending_sliding_tackle\",\n",
    "    )\n",
    "\n",
    "players = players.withColumn(\n",
    "        \"player_position\", split(players[\"player_positions\"], \",\")[0]\n",
    "    ).drop(\"player_positions\")\n",
    "\n",
    "players = players.filter(players.player_position != \"GK\")\n",
    "\n",
    "players = players.withColumn(\n",
    "        \"label_position\", label_conversion(players[\"player_position\"])\n",
    "    ).drop(\"player_position\").dropna()\n",
    "\n",
    "for col_name in players.columns:\n",
    "        if col_name != \"label_position\":\n",
    "            players = players.withColumn(col_name, col(col_name).cast(IntegerType()))\n",
    "\n",
    "sample = players.take(10)\n",
    "sample = pd.DataFrame(sample, columns=sample[0].__fields__)\n",
    "display(sample)"
   ]
  },
  {
   "attachments": {},
   "cell_type": "markdown",
   "id": "18aebe1e",
   "metadata": {},
   "source": [
    "Dataset counts **3,266,866** Defenders, **3,712,577** Midfielders, and **1,902,995** Forwards."
   ]
  },
  {
   "cell_type": "markdown",
   "id": "425758a1",
   "metadata": {},
   "source": [
    "### Data Sampling"
   ]
  },
  {
   "attachments": {},
   "cell_type": "markdown",
   "id": "d7520c64",
   "metadata": {},
   "source": [
    "<p>As an attempt to improve results, we undersample the data to reduce class imbalance, returning <b>1,500,000</b> player values for each of the three classes (also easily splittable into two thirds training and one third testing).</p>"
   ]
  },
  {
   "cell_type": "code",
   "execution_count": 15,
   "id": "dae377ab",
   "metadata": {},
   "outputs": [],
   "source": [
    "defenders = players.filter(players.label_position == \"Defender\")\n",
    "midfielders = players.filter(players.label_position == \"Midfielder\")\n",
    "forwards = players.filter(players.label_position == \"Forward\")"
   ]
  },
  {
   "cell_type": "code",
   "execution_count": 16,
   "id": "08262aa8",
   "metadata": {},
   "outputs": [
    {
     "name": "stdout",
     "output_type": "stream",
     "text": [
      "Defenders: 1499176\n",
      "Midfielders: 1499377\n",
      "Forwards: 1499643\n",
      "Total number of sampled players: 4498196\n"
     ]
    }
   ],
   "source": [
    "defenders = defenders.sample(fraction=1500000 / defenders.count()).limit(1500000)\n",
    "midfielders = midfielders.sample(fraction=1500000 / midfielders.count()).limit(1500000)\n",
    "forwards = forwards.sample(fraction=1500000 / forwards.count()).limit(1500000)\n",
    "\n",
    "sampled_players = defenders.union(midfielders).union(forwards)\n",
    "\n",
    "print(\"Defenders: {}\".format(defenders.count()))\n",
    "print(\"Midfielders: {}\".format(midfielders.count()))\n",
    "print(\"Forwards: {}\".format(forwards.count()))\n",
    "print(\"Total number of sampled players: {}\".format(sampled_players.count()))"
   ]
  },
  {
   "cell_type": "markdown",
   "id": "0cdac400",
   "metadata": {},
   "source": [
    "## Supervised Classification Algorithms"
   ]
  },
  {
   "cell_type": "markdown",
   "id": "e414232d",
   "metadata": {},
   "source": [
    "<p>Males_players.csv dataset is used to train a Decision Tree model, a Random Forest Model, and a K-nearest neighbors (K-NN) model . The dataset is first preprocessed by encoding the categorical label data to numerical values column. Next, these models are trained on a training set that consists of 2/3 of the dataset, and evaluated by the remaining 1/3 of the dataset, the test set, to evaluate the performance of the trained model.Lastly, classification report and confusion matrix are generated to assess the accuracy and quality of the trained models.</p>"
   ]
  },
  {
   "cell_type": "markdown",
   "id": "73c0bb35",
   "metadata": {},
   "source": [
    "<p>Override the <b>printf()</b> function to display output with time</p>"
   ]
  },
  {
   "cell_type": "code",
   "execution_count": null,
   "id": "8d52f29b",
   "metadata": {},
   "outputs": [],
   "source": [
    "def printf(*arg, **kwarg):\n",
    "    timestamp = datetime.now().strftime(\"%H:%M:%S.%f\")\n",
    "    print(f'[{timestamp}]', *arg, **kwarg)"
   ]
  },
  {
   "cell_type": "markdown",
   "id": "09ef4f12",
   "metadata": {},
   "source": [
    "### Categorical Encoding"
   ]
  },
  {
   "cell_type": "markdown",
   "id": "2c61eec9",
   "metadata": {},
   "source": [
    "<p>Categorical encoding is done to the label_position column before splitting, fitting and evaluating the random forest model by using StringIndexer, which converts textual data to numeric data while keeping its categorical context"
   ]
  },
  {
   "cell_type": "code",
   "execution_count": null,
   "id": "b131b8a9",
   "metadata": {},
   "outputs": [],
   "source": [
    "players = sampled_data()\n",
    "def encode(players):\n",
    "    # Apply string indexer\n",
    "    indexer = StringIndexer(inputCol=\"label_position\", outputCol=\"label_position_index\")\n",
    "    return indexer.fit(players).transform(players)\n",
    "df = encode(players)"
   ]
  },
  {
   "cell_type": "markdown",
   "id": "363654a0",
   "metadata": {},
   "source": [
    "The table below displays the resulting dataset after assigning numerical values 0, 1 and 2 to the label positions <b>\"Forward\"</b>, <b>\"Midfielder\"</b> and <b>\"Defender\"</b>, respectively.</p>"
   ]
  },
  {
   "cell_type": "code",
   "execution_count": null,
   "id": "2281d0b6",
   "metadata": {},
   "outputs": [],
   "source": [
    "unique_values = [row['label_position'] for row in df.select('label_position').distinct().orderBy('label_position').collect()]\n",
    "for value in unique_values:\n",
    "    sample = df[df['label_position'] == value].head(1)\n",
    "    sample = pd.DataFrame(sample, columns=sample[0].__fields__)\n",
    "    display(sample)"
   ]
  },
  {
   "cell_type": "markdown",
   "id": "60b88ee9",
   "metadata": {},
   "source": [
    "<p>To prepare the input data for the random forest model, the \"<b>label_position</b>\" and \"<b>label_position_index</b>\" columns are removed, and a new list of DataFrame columns called \"<b>list_of_features</b>\" is created</p>"
   ]
  },
  {
   "cell_type": "code",
   "execution_count": null,
   "id": "217d48dd",
   "metadata": {
    "scrolled": false
   },
   "outputs": [],
   "source": [
    "# Drop the label_position column to only get the features\n",
    "def getFeatures(df):\n",
    "    list_of_features = df.drop(\"label_position\").drop(\"label_position_index\").columns\n",
    "    assembler = VectorAssembler(inputCols=list_of_features, outputCol=\"indexed_features\")\n",
    "    df = assembler.transform(df)\n",
    "    return df\n",
    "df = getFeatures(df)\n",
    "# Display the DataFrame\n",
    "sample = df.take(5)\n",
    "sample = pd.DataFrame(sample, columns=sample[0].__fields__)\n",
    "display(sample)"
   ]
  },
  {
   "cell_type": "markdown",
   "id": "898f0420",
   "metadata": {},
   "source": [
    "### Split the data set into a training set and test set"
   ]
  },
  {
   "cell_type": "markdown",
   "id": "2fbb0139",
   "metadata": {},
   "source": [
    "<p>To train the Random Forest Model, a training set is created using 2/3 of the dataset, while the remaining 1/3 is used as the test set.</p>"
   ]
  },
  {
   "cell_type": "code",
   "execution_count": null,
   "id": "5a9974b2",
   "metadata": {},
   "outputs": [],
   "source": [
    "trainingSet, testSet = df.randomSplit([0.67, 0.33], 24)\n",
    "# Drop labels of the test set to evaluate later\n",
    "unlabeledTestSet, testSetRealLabels = testSet.drop(\n",
    "        \"label_position\"\n",
    "    ), testSet.select(\"label_position\").withColumnRenamed(\n",
    "        \"label_position\", \"real_label\"\n",
    "    )"
   ]
  },
  {
   "cell_type": "markdown",
   "id": "8965f0bf",
   "metadata": {},
   "source": [
    "<p>After splitting, the trainning set and test set will look as shown below:</p>"
   ]
  },
  {
   "cell_type": "code",
   "execution_count": null,
   "id": "65728690",
   "metadata": {},
   "outputs": [],
   "source": [
    "trainingDataSample= trainingSet.take(10)\n",
    "trainingDataSample= pd.DataFrame(sample, columns=trainingDataSample[0].__fields__)\n",
    "testDataSample= testSet.take(10)\n",
    "testDataSample= pd.DataFrame(sample, columns=testDataSample[0].__fields__)\n",
    "print(\"Training Data Sample\")\n",
    "display(trainingDataSample)\n",
    "print(\"Test Data Sample\")\n",
    "display(testDataSample)"
   ]
  },
  {
   "cell_type": "markdown",
   "id": "19fe827b",
   "metadata": {},
   "source": [
    "### Train a model using PySpark"
   ]
  },
  {
   "cell_type": "markdown",
   "id": "e618236d",
   "metadata": {},
   "source": [
    "#### Training Decision Tree model"
   ]
  },
  {
   "cell_type": "markdown",
   "id": "b3d18b43",
   "metadata": {},
   "source": [
    "<p>We'll train the model using the code below.<p>"
   ]
  },
  {
   "cell_type": "code",
   "execution_count": null,
   "id": "107839d0",
   "metadata": {},
   "outputs": [],
   "source": [
    "dt = DTC(labelCol=\"label_position_index\", featuresCol=\"indexed_features\", impurity=\"entropy\",\n",
    "                                maxDepth=15)\n",
    "printf(\"Training Decision Tree model...\")\n",
    "model = dt.fit(trainingSet)\n",
    "printf(\"Finished fitting model.\")\n",
    "printf(\"Predicting test labels...\")\n",
    "spark_dt_predictions = model.transform(testSet)\n",
    "printf(\"Finished predictions.\")"
   ]
  },
  {
   "cell_type": "markdown",
   "id": "d4901e7c",
   "metadata": {},
   "source": [
    "#### Training Random Forest  model"
   ]
  },
  {
   "cell_type": "markdown",
   "id": "fb6585ca",
   "metadata": {},
   "source": [
    "<p>We'll train the model using the code below.<p>"
   ]
  },
  {
   "cell_type": "code",
   "execution_count": null,
   "id": "59988726",
   "metadata": {},
   "outputs": [],
   "source": [
    "rf = RFC(labelCol=\"label_position_index\", featuresCol=\"indexed_features\", numTrees=10, maxDepth=5)\n",
    "printf(\"Training Random Forest model...\")\n",
    "model = rf.fit(trainingSet)\n",
    "printf(\"Finished fitting model.\")\n",
    "printf(\"Predicting test labels...\")\n",
    "spark_rf_predictions = model.transform(testSet)\n",
    "printf(\"Finished predictions.\")"
   ]
  },
  {
   "cell_type": "markdown",
   "id": "498dd0a5",
   "metadata": {},
   "source": [
    "#### K-nearest neighbors algorithm (K-NN)"
   ]
  },
  {
   "cell_type": "markdown",
   "id": "0a3f02c4",
   "metadata": {},
   "source": [
    "<p>Since the K-NN model uses distance between data points to predict an unlabeled data point, we need a function to compute their distance as shown below<p> "
   ]
  },
  {
   "cell_type": "code",
   "execution_count": null,
   "id": "5fe10c5e",
   "metadata": {},
   "outputs": [],
   "source": [
    "def euclidean_distance(v1, v2):\n",
    "    return np.sum((v1 - v2) ** 2)"
   ]
  },
  {
   "cell_type": "markdown",
   "id": "6523d0f5",
   "metadata": {},
   "source": [
    "<p>We'll train the model using the following code.<p>"
   ]
  },
  {
   "cell_type": "code",
   "execution_count": null,
   "id": "a922cf5a",
   "metadata": {},
   "outputs": [],
   "source": [
    "def knnModel(trainingSet, toPredictSet, k):\n",
    "    # Convert features to vectors to compute their distances \n",
    "    featuresArray = array(\n",
    "        \"pace\",\n",
    "        \"shooting\",\n",
    "        \"passing\",\n",
    "        \"dribbling\",\n",
    "        \"defending\",\n",
    "        \"attacking_crossing\",\n",
    "        \"attacking_finishing\",\n",
    "        \"attacking_heading_accuracy\",\n",
    "        \"attacking_short_passing\",\n",
    "        \"attacking_volleys\",\n",
    "        \"skill_dribbling\",\n",
    "        \"skill_fk_accuracy\",\n",
    "        \"skill_long_passing\",\n",
    "        \"skill_ball_control\",\n",
    "        \"movement_acceleration\",\n",
    "        \"movement_sprint_speed\",\n",
    "        \"movement_agility\",\n",
    "        \"movement_balance\",\n",
    "        \"power_shot_power\",\n",
    "        \"power_stamina\",\n",
    "        \"power_long_shots\",\n",
    "        \"mentality_interceptions\",\n",
    "        \"mentality_positioning\",\n",
    "        \"mentality_penalties\",\n",
    "        \"defending_marking_awareness\",\n",
    "        \"defending_standing_tackle\",\n",
    "        \"defending_sliding_tackle\",\n",
    "    )\n",
    "    # Convert the training set into a DataFrame with two columns: \n",
    "    # one column represents feature vectors, and the other column represents a player's position.\n",
    "    trainingSetDf = trainingSet.select(\n",
    "        featuresArray.alias(\"features_in_array_training\"), \"label_position\"\n",
    "    )\n",
    "    # Drop labels of the test set and convert its features into vectors\n",
    "    toPredictSetDf = toPredictSet.select(\n",
    "        monotonically_increasing_id().alias(\"id\"),\n",
    "        featuresArray.alias(\"features_in_array_predict\"),\n",
    "    )\n",
    "    # Compute cartesian product of two Dataframes\n",
    "    merged = toPredictSetDf.crossJoin(trainingSetDf)\n",
    "    mergedRDD = merged.rdd\n",
    "    mergedRDD = mergedRDD.map(\n",
    "        lambda r: [\n",
    "            r.id,\n",
    "            euclidean_distance(\n",
    "                np.array(r.features_in_array_predict).astype(float),\n",
    "                np.array(r.features_in_array_training).astype(float),\n",
    "            ).tolist(),\n",
    "            r.label_position,\n",
    "        ]\n",
    "    )\n",
    "    merged = mergedRDD.toDF([\"id\", \"distance\", \"label_position\"])\n",
    "    \n",
    "    windowMerged = Window.partitionBy(\"id\").orderBy(col(\"distance\").asc())\n",
    "    merged = (\n",
    "        merged.withColumn(\"row\", row_number().over(windowMerged))\n",
    "        .filter(col(\"row\") <= k)\n",
    "        .drop(\"row\")\n",
    "        .drop(\"distance\")\n",
    "    )\n",
    "    # Get distances between an unlabeled data point with its K nearest neighbors\n",
    "    merged = merged.groupBy([\"id\", \"label_position\"]).count()\n",
    "    windowMerged = Window.partitionBy(\"id\").orderBy(col(\"count\").desc())\n",
    "    # Obtain the majority labels of its K nearest neighbors\n",
    "    merged = (\n",
    "        merged.withColumn(\"row\", row_number().over(windowMerged))\n",
    "        .filter(col(\"row\") == 1)\n",
    "        .drop(\"row\")\n",
    "        .drop(\"count\")\n",
    "    )\n",
    "    merged = merged.orderBy(\"id\").drop(\"id\")\n",
    "    merged = merged.withColumnRenamed(\"label_position\", \"prediction\")\n",
    "    return merged"
   ]
  },
  {
   "cell_type": "markdown",
   "id": "5ea9c257",
   "metadata": {},
   "source": [
    "<p>Now we will train our model using the training set<p>"
   ]
  },
  {
   "cell_type": "code",
   "execution_count": null,
   "id": "fc53cd70",
   "metadata": {},
   "outputs": [],
   "source": [
    "trainingData = trainingSet.drop(\"label_position_index\").drop(\"indexed_features\")\n",
    "unlabeledTestData = unlabeledTestSet.drop(\"label_position_index\").drop(\"indexed_features\")\n",
    "printf(\"Predicting test labels...\")\n",
    "testSetPredictions = knnModel(trainingData,unlabeledTestData,k=3)\n",
    "printf(\"Finished predictions.\")"
   ]
  },
  {
   "cell_type": "markdown",
   "id": "07cf183e",
   "metadata": {},
   "source": [
    "### Model Evaluation"
   ]
  },
  {
   "cell_type": "markdown",
   "id": "c5b99df2",
   "metadata": {},
   "source": [
    "The model will be evaluated as shown below:"
   ]
  },
  {
   "cell_type": "code",
   "execution_count": null,
   "id": "4d2fd2c2",
   "metadata": {},
   "outputs": [],
   "source": [
    "def evaluation(testSetLabels, predictions, features):\n",
    "    # Compute evaluation metrics\n",
    "    cr = classification_report(testSetLabels,predictions, output_dict=True)\n",
    "    report_df = pd.DataFrame.from_dict(cr).transpose()\n",
    "    print(\"Classification Report:\")\n",
    "    print(report_df)\n",
    "    cm = confusion_matrix(testSetLabels, predictions)\n",
    "    print(\"\\nConfusion Matrix\")\n",
    "    disp = ConfusionMatrixDisplay(confusion_matrix=cm, display_labels = features)\n",
    "    disp.plot()\n",
    "    pl.show()\n"
   ]
  },
  {
   "cell_type": "markdown",
   "id": "d80697a3",
   "metadata": {},
   "source": [
    "#### Evaluate a model trained by Decision Tree algorithm"
   ]
  },
  {
   "cell_type": "markdown",
   "id": "24853f64",
   "metadata": {},
   "source": [
    "<p>To generate the classification report, the \"<b>prediction</b>\" and \"<b>label_position_index</b>\" columns are selected from the \"<b>predictions</b>\" dataframe. The resulting dataframe is then converted to a Pandas dataframe, allowing the use of the <b>classification_report()</b> function from the scikit-learn metrics module.<p>"
   ]
  },
  {
   "cell_type": "code",
   "execution_count": null,
   "id": "6c743c29",
   "metadata": {},
   "outputs": [],
   "source": [
    "# Compute evaluation metrics\n",
    "printf(\"Evaluating predictions...\\n\")\n",
    "dt_predictions_and_labels_pd = spark_dt_predictions.select(\"prediction\", \"label_position_index\").toPandas()\n",
    "evaluation(dt_predictions_and_labels_pd['label_position_index'],dt_predictions_and_labels_pd['prediction'], [0.0,1.0,2.0])"
   ]
  },
  {
   "cell_type": "markdown",
   "id": "dd3893f3",
   "metadata": {},
   "source": [
    "#### Evaluate a model trained by Random Forest algorithm"
   ]
  },
  {
   "cell_type": "markdown",
   "id": "2234ee83",
   "metadata": {},
   "source": [
    "<p>To generate the classification report, the \"<b>prediction</b>\" and \"<b>label_position_index</b>\" columns are selected from the \"<b>predictions</b>\" dataframe. The resulting dataframe is then converted to a Pandas dataframe, allowing the use of the <b>classification_report()</b> function from the scikit-learn metrics module.</p>"
   ]
  },
  {
   "cell_type": "code",
   "execution_count": null,
   "id": "ee98324a",
   "metadata": {},
   "outputs": [],
   "source": [
    "# Compute evaluation metrics\n",
    "printf(\"Evaluating predictions...\\n\")\n",
    "rf_predictions_and_labels_pd = spark_rf_predictions.select(\"prediction\", \"label_position_index\").toPandas()\n",
    "evaluation(rf_predictions_and_labels_pd['label_position_index'],rf_predictions_and_labels_pd['prediction'],[0.0,1.0,2.0])"
   ]
  },
  {
   "cell_type": "markdown",
   "id": "d7a14349",
   "metadata": {},
   "source": [
    "#### Evaluate a model trained by K-nearest neighbors (K-NN) algorithm "
   ]
  },
  {
   "cell_type": "code",
   "execution_count": null,
   "id": "5ac5246f",
   "metadata": {},
   "outputs": [],
   "source": [
    "# Compute evaluation metrics\n",
    "printf(\"Evaluating predictions...\\n\")\n",
    "evaluation(testSetRealLabels.toPandas(),testSetPredictions.toPandas(), ['Forward', 'Midfielder', 'Defender'])"
   ]
  },
  {
   "cell_type": "markdown",
   "id": "e275f8b7",
   "metadata": {},
   "source": [
    "<p><b>Observation:</b> Our models have been trained on a subsample of <bo>1,476</b> data points, which is much smaller than the original dataset. However, increasing the size of the subsample can take hours to train a model. As a result, we have decided to use Apache Parquet, which can generate lower storage costs for data and maximize the effectiveness of data queries. This allows a large amount of data to fit in memory, reducing the time for swapping data from disks. We will save the training set and test set as .parquet. This process is done by executing the following code:</p>"
   ]
  },
  {
   "cell_type": "code",
   "execution_count": null,
   "id": "e44761ba",
   "metadata": {
    "scrolled": true
   },
   "outputs": [],
   "source": [
    "def cleanup_data_and_store_as_parquet(players):\n",
    "    trainingSet, testSet = players.randomSplit([0.67, 0.33], 24)\n",
    "    male_players_cleaned_training = pathlib.Path(\"../data/male_players_cleaned_training\")\n",
    "    if male_players_cleaned_training.exists():\n",
    "         shutil.rmtree(\"../data/male_players_cleaned_training\",ignore_errors=True)\n",
    "    male_players_cleaned_test = pathlib.Path(\"../data/male_players_cleaned_test\")\n",
    "    if male_players_cleaned_test.exists():\n",
    "        shutil.rmtree(\"../data/male_players_cleaned_test\",ignore_errors=True)\n",
    "        \n",
    "    trainingSet.write.parquet('../data/male_players_cleaned_training')\n",
    "    testSet.write.parquet('../data/male_players_cleaned_test') \n",
    "\n",
    "# Read the dataset using PySpark\n",
    "players = data_preparation(\"../data/male_players.csv\")\n",
    "cleanup_data_and_store_as_parquet(players)\n",
    "printf(\"-------Using the entire of data set-------\")\n",
    "printf(\"Loading dataset...\")\n",
    "\n",
    "# Convert to Pandas Dataframe to train with Scikit-Learn later\n",
    "trainingSet = pd.read_parquet('../data/male_players_cleaned_training')\n",
    "testSet = pd.read_parquet('../data/male_players_cleaned_test')\n",
    "printf(f'Finished loading dataset. Training set: {trainingSet.shape[0]} rows, Test set: {testSet.shape[0]} rows')\n",
    "\n",
    "# Get labels of the training set\n",
    "trainingSetLabels = trainingSet.iloc[:, -1:].values.ravel()\n",
    "# Drop the column \"label_positions\" of the training set \n",
    "trainingSet = trainingSet.iloc[:, :-1]\n",
    "\n",
    "# Get labels of the test set\n",
    "testSetLabels = testSet.iloc[:, -1:].values.ravel()\n",
    "# Drop the column \"label_positions\" of the test set\n",
    "testSet = testSet.iloc[:, :-1]"
   ]
  },
  {
   "cell_type": "markdown",
   "id": "6a2f34fd",
   "metadata": {},
   "source": [
    "### Train a model using Scikit-Learn"
   ]
  },
  {
   "cell_type": "markdown",
   "id": "e1a707a2",
   "metadata": {},
   "source": [
    "<p>As PySpark does not implement the K-NN model, we developed our own implementation. However, our algorithm is computationally expensive because we generated a Cartesian product between the training set and test set. Fortunately, Scikit-Learn offers optimized K-NN models that use BallTree and KDTree for efficient nearest-neighbor searches.\n",
    "</p>\n",
    "<p>We will now create a <b>predict()</b> method.</p>"
   ]
  },
  {
   "cell_type": "code",
   "execution_count": null,
   "id": "f2d65400",
   "metadata": {},
   "outputs": [],
   "source": [
    "def predict(model, name, trainingSet, trainingSetLabels, testSetLabels):\n",
    "    printf(f'Fitting {name} model...')\n",
    "    model.fit(trainingSet, trainingSetLabels)\n",
    "    printf(f\"Finished fitting model.\")\n",
    "\n",
    "    printf(\"Predicting test labels...\")\n",
    "\n",
    "    predictions = model.predict(testSet)\n",
    "    printf(\"Finished predictions.\")\n",
    "    return predictions"
   ]
  },
  {
   "cell_type": "markdown",
   "id": "f5e22afa",
   "metadata": {},
   "source": [
    "#### Train model using K-nearest neighbors (K-NN) algorithm "
   ]
  },
  {
   "cell_type": "markdown",
   "id": "96b3e5a0",
   "metadata": {},
   "source": [
    "<p>We'll train K-NN model using the code below.</p>"
   ]
  },
  {
   "cell_type": "code",
   "execution_count": null,
   "id": "5e39ad76",
   "metadata": {},
   "outputs": [],
   "source": [
    "knn_model = KNeighborsClassifier(n_neighbors=3, algorithm='kd_tree', n_jobs=-1)\n",
    "knn_predictions = predict(knn_model,\"KNN\",trainingSet, trainingSetLabels, testSetLabels)"
   ]
  },
  {
   "cell_type": "markdown",
   "id": "02c2e085",
   "metadata": {},
   "source": [
    "#### Train model using Random Forest algorithm "
   ]
  },
  {
   "cell_type": "code",
   "execution_count": null,
   "id": "ac35edec",
   "metadata": {},
   "outputs": [],
   "source": [
    "rf_model = RandomForestClassifier(max_depth=7, random_state=0)\n",
    "rf_predictions = predict(rf_model,\"Random Forest\",trainingSet, trainingSetLabels, testSetLabels)"
   ]
  },
  {
   "cell_type": "markdown",
   "id": "0699a117",
   "metadata": {},
   "source": [
    "#### Train model using Decision Tree algorithm "
   ]
  },
  {
   "cell_type": "code",
   "execution_count": null,
   "id": "ad0396f2",
   "metadata": {},
   "outputs": [],
   "source": [
    "dt_model = DecisionTreeClassifier(criterion=\"entropy\", max_depth=7)\n",
    "dt_predictions = predict(dt_model, \"Decision Tree\", trainingSet, trainingSetLabels, testSetLabels)"
   ]
  },
  {
   "cell_type": "markdown",
   "id": "a6e790c8",
   "metadata": {},
   "source": [
    "#### Model Evaluation"
   ]
  },
  {
   "cell_type": "markdown",
   "id": "0fc1997f",
   "metadata": {},
   "source": [
    "#### Evaluate a model trained by K-NN algorithm"
   ]
  },
  {
   "cell_type": "code",
   "execution_count": null,
   "id": "c4a294e9",
   "metadata": {},
   "outputs": [],
   "source": [
    "printf(\"Evaluating predictions...\\n\")\n",
    "evaluation(testSetLabels,knn_predictions, ['Forward', 'Midfielder', 'Defender'])"
   ]
  },
  {
   "cell_type": "markdown",
   "id": "234d018b",
   "metadata": {},
   "source": [
    "#### Evaluate a model trained by Random Forest algorithm"
   ]
  },
  {
   "cell_type": "code",
   "execution_count": null,
   "id": "2dd9d44e",
   "metadata": {},
   "outputs": [],
   "source": [
    "printf(\"Evaluating predictions...\\n\")\n",
    "evaluation(testSetLabels,rf_predictions, [0.0,1.0,2.0])"
   ]
  },
  {
   "cell_type": "markdown",
   "id": "83ac5305",
   "metadata": {},
   "source": [
    "#### Evaluate a model trained by Decision Tree algorithm"
   ]
  },
  {
   "cell_type": "code",
   "execution_count": null,
   "id": "5e0b19b0",
   "metadata": {},
   "outputs": [],
   "source": [
    "printf(\"Evaluating predictions...\\n\")\n",
    "evaluation(testSetLabels,dt_predictions, [0.0,1.0,2.0])"
   ]
  }
 ],
 "metadata": {
  "kernelspec": {
   "display_name": "Python 3 (ipykernel)",
   "language": "python",
   "name": "python3"
  },
  "language_info": {
   "codemirror_mode": {
    "name": "ipython",
    "version": 3
   },
   "file_extension": ".py",
   "mimetype": "text/x-python",
   "name": "python",
   "nbconvert_exporter": "python",
   "pygments_lexer": "ipython3",
   "version": "3.10.0"
  }
 },
 "nbformat": 4,
 "nbformat_minor": 5
}
