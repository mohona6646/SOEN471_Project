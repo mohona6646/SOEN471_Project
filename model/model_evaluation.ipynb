{
 "cells": [
  {
   "cell_type": "markdown",
   "id": "d8376295",
   "metadata": {},
   "source": [
    "# SOEN 471 Project"
   ]
  },
  {
   "cell_type": "markdown",
   "id": "eeb75e96",
   "metadata": {},
   "source": [
    "The objective of our project is to train a data model to classify football players into different positions (Forward, Midfielder, Defender), based on both their skill and performance characteristics, utilizing a **supervised classification** model."
   ]
  },
  {
   "cell_type": "markdown",
   "id": "a87762b4",
   "metadata": {},
   "source": [
    "Our model runs on three different algorithms: **Decision Tree**, **Random Forest** and **K-Nearest Neighbors (KNN)**."
   ]
  },
  {
   "cell_type": "markdown",
   "id": "1f7e794f",
   "metadata": {},
   "source": [
    "### Import libraries"
   ]
  },
  {
   "cell_type": "code",
   "execution_count": 1,
   "id": "53dba7d8",
   "metadata": {},
   "outputs": [],
   "source": [
    "import pandas as pd\n",
    "import matplotlib.pyplot as pl\n",
    "import pathlib\n",
    "import shutil\n",
    "import numpy as np\n",
    "import pyspark.sql.functions as F\n",
    "import findspark\n",
    "import os\n",
    "import sys\n",
    "\n",
    "from data_processing import *\n",
    "from datetime import datetime\n",
    "from knn import cleanup_data_and_store_as_parquet, printf, predict\n",
    "\n",
    "from IPython.display import display\n",
    "\n",
    "from pyspark.sql.types import IntegerType\n",
    "from pyspark.sql import SparkSession\n",
    "from pyspark.sql.functions import split, when, col\n",
    "from pyspark.sql.functions import array, col, monotonically_increasing_id, row_number\n",
    "from pyspark.sql.window import Window\n",
    "from pyspark.mllib.evaluation import MulticlassMetrics\n",
    "from pyspark.ml.feature import StringIndexer,VectorAssembler\n",
    "\n",
    "from sklearn.metrics import classification_report, confusion_matrix, ConfusionMatrixDisplay\n",
    "from sklearn.neighbors import KNeighborsClassifier\n",
    "from sklearn.ensemble import RandomForestClassifier\n",
    "from sklearn.tree import DecisionTreeClassifier"
   ]
  },
  {
   "cell_type": "markdown",
   "id": "81319f04",
   "metadata": {},
   "source": [
    "### Spark Initialization/ Environment Setup"
   ]
  },
  {
   "cell_type": "code",
   "execution_count": 2,
   "id": "2121b1b3",
   "metadata": {},
   "outputs": [],
   "source": [
    "os.environ['PYSPARK_PYTHON'] = sys.executable\n",
    "os.environ['PYSPARK_DRIVER_PYTHON'] = sys.executable\n",
    "\n",
    "findspark.init()\n",
    "\n",
    "def init_spark():\n",
    "    spark = (\n",
    "        SparkSession.builder.appName(\"SOEN 471 Project\")\n",
    "        .config(\"spark.some.config.option\", \"some-value\")\n",
    "        .getOrCreate()\n",
    "    )\n",
    "    return spark"
   ]
  },
  {
   "cell_type": "markdown",
   "id": "cd7de14e",
   "metadata": {},
   "source": [
    "## 1. Data Preparation"
   ]
  },
  {
   "cell_type": "markdown",
   "id": "b86ac211",
   "metadata": {},
   "source": [
    "### 1.1 Sample of Initial Data"
   ]
  },
  {
   "cell_type": "markdown",
   "id": "502010c6",
   "metadata": {},
   "source": [
    "<p>Initial row count is of 10,003,590 values, and the dataset contains a total of 110 different features.</p>"
   ]
  },
  {
   "cell_type": "code",
   "execution_count": 3,
   "id": "1abcbd6b",
   "metadata": {},
   "outputs": [
    {
     "data": {
      "text/html": [
       "<div>\n",
       "<style scoped>\n",
       "    .dataframe tbody tr th:only-of-type {\n",
       "        vertical-align: middle;\n",
       "    }\n",
       "\n",
       "    .dataframe tbody tr th {\n",
       "        vertical-align: top;\n",
       "    }\n",
       "\n",
       "    .dataframe thead th {\n",
       "        text-align: right;\n",
       "    }\n",
       "</style>\n",
       "<table border=\"1\" class=\"dataframe\">\n",
       "  <thead>\n",
       "    <tr style=\"text-align: right;\">\n",
       "      <th></th>\n",
       "      <th>player_id</th>\n",
       "      <th>player_url</th>\n",
       "      <th>fifa_version</th>\n",
       "      <th>fifa_update</th>\n",
       "      <th>fifa_update_date</th>\n",
       "      <th>short_name</th>\n",
       "      <th>long_name</th>\n",
       "      <th>player_positions</th>\n",
       "      <th>overall</th>\n",
       "      <th>potential</th>\n",
       "      <th>...</th>\n",
       "      <th>cdm</th>\n",
       "      <th>rdm</th>\n",
       "      <th>rwb</th>\n",
       "      <th>lb</th>\n",
       "      <th>lcb</th>\n",
       "      <th>cb</th>\n",
       "      <th>rcb</th>\n",
       "      <th>rb</th>\n",
       "      <th>gk</th>\n",
       "      <th>player_face_url</th>\n",
       "    </tr>\n",
       "  </thead>\n",
       "  <tbody>\n",
       "    <tr>\n",
       "      <th>0</th>\n",
       "      <td>158023</td>\n",
       "      <td>/player/158023/lionel-messi/230009</td>\n",
       "      <td>23</td>\n",
       "      <td>9</td>\n",
       "      <td>2023-01-13</td>\n",
       "      <td>L. Messi</td>\n",
       "      <td>Lionel Andrés Messi Cuccittini</td>\n",
       "      <td>RW</td>\n",
       "      <td>91</td>\n",
       "      <td>91</td>\n",
       "      <td>...</td>\n",
       "      <td>63+3</td>\n",
       "      <td>63+3</td>\n",
       "      <td>64+3</td>\n",
       "      <td>59+3</td>\n",
       "      <td>50+3</td>\n",
       "      <td>50+3</td>\n",
       "      <td>50+3</td>\n",
       "      <td>59+3</td>\n",
       "      <td>19+3</td>\n",
       "      <td>https://cdn.sofifa.net/players/158/023/23_120.png</td>\n",
       "    </tr>\n",
       "    <tr>\n",
       "      <th>1</th>\n",
       "      <td>165153</td>\n",
       "      <td>/player/165153/karim-benzema/230009</td>\n",
       "      <td>23</td>\n",
       "      <td>9</td>\n",
       "      <td>2023-01-13</td>\n",
       "      <td>K. Benzema</td>\n",
       "      <td>Karim Benzema</td>\n",
       "      <td>CF, ST</td>\n",
       "      <td>91</td>\n",
       "      <td>91</td>\n",
       "      <td>...</td>\n",
       "      <td>64+3</td>\n",
       "      <td>64+3</td>\n",
       "      <td>64+3</td>\n",
       "      <td>60+3</td>\n",
       "      <td>55+3</td>\n",
       "      <td>55+3</td>\n",
       "      <td>55+3</td>\n",
       "      <td>60+3</td>\n",
       "      <td>18+3</td>\n",
       "      <td>https://cdn.sofifa.net/players/165/153/23_120.png</td>\n",
       "    </tr>\n",
       "    <tr>\n",
       "      <th>2</th>\n",
       "      <td>188545</td>\n",
       "      <td>/player/188545/robert-lewandowski/230009</td>\n",
       "      <td>23</td>\n",
       "      <td>9</td>\n",
       "      <td>2023-01-13</td>\n",
       "      <td>R. Lewandowski</td>\n",
       "      <td>Robert Lewandowski</td>\n",
       "      <td>ST</td>\n",
       "      <td>91</td>\n",
       "      <td>91</td>\n",
       "      <td>...</td>\n",
       "      <td>66+3</td>\n",
       "      <td>66+3</td>\n",
       "      <td>64+3</td>\n",
       "      <td>61+3</td>\n",
       "      <td>60+3</td>\n",
       "      <td>60+3</td>\n",
       "      <td>60+3</td>\n",
       "      <td>61+3</td>\n",
       "      <td>19+3</td>\n",
       "      <td>https://cdn.sofifa.net/players/188/545/23_120.png</td>\n",
       "    </tr>\n",
       "    <tr>\n",
       "      <th>3</th>\n",
       "      <td>192985</td>\n",
       "      <td>/player/192985/kevin-de-bruyne/230009</td>\n",
       "      <td>23</td>\n",
       "      <td>9</td>\n",
       "      <td>2023-01-13</td>\n",
       "      <td>K. De Bruyne</td>\n",
       "      <td>Kevin De Bruyne</td>\n",
       "      <td>CM, CAM</td>\n",
       "      <td>91</td>\n",
       "      <td>91</td>\n",
       "      <td>...</td>\n",
       "      <td>79+3</td>\n",
       "      <td>79+3</td>\n",
       "      <td>78+3</td>\n",
       "      <td>74+3</td>\n",
       "      <td>68+3</td>\n",
       "      <td>68+3</td>\n",
       "      <td>68+3</td>\n",
       "      <td>74+3</td>\n",
       "      <td>21+3</td>\n",
       "      <td>https://cdn.sofifa.net/players/192/985/23_120.png</td>\n",
       "    </tr>\n",
       "    <tr>\n",
       "      <th>4</th>\n",
       "      <td>231747</td>\n",
       "      <td>/player/231747/kylian-mbappe/230009</td>\n",
       "      <td>23</td>\n",
       "      <td>9</td>\n",
       "      <td>2023-01-13</td>\n",
       "      <td>K. Mbappé</td>\n",
       "      <td>Kylian Mbappé Lottin</td>\n",
       "      <td>ST, LW</td>\n",
       "      <td>91</td>\n",
       "      <td>95</td>\n",
       "      <td>...</td>\n",
       "      <td>63+3</td>\n",
       "      <td>63+3</td>\n",
       "      <td>67+3</td>\n",
       "      <td>63+3</td>\n",
       "      <td>54+3</td>\n",
       "      <td>54+3</td>\n",
       "      <td>54+3</td>\n",
       "      <td>63+3</td>\n",
       "      <td>18+3</td>\n",
       "      <td>https://cdn.sofifa.net/players/231/747/23_120.png</td>\n",
       "    </tr>\n",
       "  </tbody>\n",
       "</table>\n",
       "<p>5 rows × 110 columns</p>\n",
       "</div>"
      ],
      "text/plain": [
       "  player_id                                player_url fifa_version  \\\n",
       "0    158023        /player/158023/lionel-messi/230009           23   \n",
       "1    165153       /player/165153/karim-benzema/230009           23   \n",
       "2    188545  /player/188545/robert-lewandowski/230009           23   \n",
       "3    192985     /player/192985/kevin-de-bruyne/230009           23   \n",
       "4    231747       /player/231747/kylian-mbappe/230009           23   \n",
       "\n",
       "  fifa_update fifa_update_date      short_name  \\\n",
       "0           9       2023-01-13        L. Messi   \n",
       "1           9       2023-01-13      K. Benzema   \n",
       "2           9       2023-01-13  R. Lewandowski   \n",
       "3           9       2023-01-13    K. De Bruyne   \n",
       "4           9       2023-01-13       K. Mbappé   \n",
       "\n",
       "                        long_name player_positions overall potential  ...  \\\n",
       "0  Lionel Andrés Messi Cuccittini               RW      91        91  ...   \n",
       "1                   Karim Benzema           CF, ST      91        91  ...   \n",
       "2              Robert Lewandowski               ST      91        91  ...   \n",
       "3                 Kevin De Bruyne          CM, CAM      91        91  ...   \n",
       "4            Kylian Mbappé Lottin           ST, LW      91        95  ...   \n",
       "\n",
       "    cdm   rdm   rwb    lb   lcb    cb   rcb    rb    gk  \\\n",
       "0  63+3  63+3  64+3  59+3  50+3  50+3  50+3  59+3  19+3   \n",
       "1  64+3  64+3  64+3  60+3  55+3  55+3  55+3  60+3  18+3   \n",
       "2  66+3  66+3  64+3  61+3  60+3  60+3  60+3  61+3  19+3   \n",
       "3  79+3  79+3  78+3  74+3  68+3  68+3  68+3  74+3  21+3   \n",
       "4  63+3  63+3  67+3  63+3  54+3  54+3  54+3  63+3  18+3   \n",
       "\n",
       "                                     player_face_url  \n",
       "0  https://cdn.sofifa.net/players/158/023/23_120.png  \n",
       "1  https://cdn.sofifa.net/players/165/153/23_120.png  \n",
       "2  https://cdn.sofifa.net/players/188/545/23_120.png  \n",
       "3  https://cdn.sofifa.net/players/192/985/23_120.png  \n",
       "4  https://cdn.sofifa.net/players/231/747/23_120.png  \n",
       "\n",
       "[5 rows x 110 columns]"
      ]
     },
     "metadata": {},
     "output_type": "display_data"
    }
   ],
   "source": [
    "data_dir = os.path.join(os.path.dirname(os.getcwd()), 'data')\n",
    "\n",
    "spark = init_spark()\n",
    "\n",
    "df1 = spark.read.csv(os.path.join(data_dir, 'male_players1.csv'), header=True)\n",
    "df2 = spark.read.csv(os.path.join(data_dir, 'male_players2.csv'), header=True)\n",
    "df3 = spark.read.csv(os.path.join(data_dir, 'male_players3.csv'), header=True)\n",
    "df4 = spark.read.csv(os.path.join(data_dir, 'male_players4.csv'), header=True)\n",
    "df5 = spark.read.csv(os.path.join(data_dir, 'male_players5.csv'), header=True)\n",
    "df6 = spark.read.csv(os.path.join(data_dir, 'male_players6.csv'), header=True)\n",
    "\n",
    "players = df1.union(df2).union(df3).union(df4).union(df5).union(df6)\n",
    "\n",
    "sample = players.take(5)\n",
    "sample = pd.DataFrame(sample, columns=sample[0].__fields__)\n",
    "sample = sample.drop(sample.columns[0], axis=1)\n",
    "\n",
    "display(sample)"
   ]
  },
  {
   "cell_type": "markdown",
   "id": "392a09d9",
   "metadata": {},
   "source": [
    "### 1.2 Sample of Final Data"
   ]
  },
  {
   "cell_type": "markdown",
   "id": "14bc3645",
   "metadata": {},
   "source": [
    "<p>Summary of all steps performed in the data preparation phase:</p>\n",
    "<li>Select all field-related features.\n",
    "<li>Discard all goalkeepers / goal-keeping attributes from the dataset (too many null values).\n",
    "<li>Drop features that are not discriminative towards any class (same values can easily be obtained by players of all classes).\n",
    "<li>Select most preferred position for each player.\n",
    "<li>Convert FIFA-defined position (RW, CF, ST) to one of three labels (Forward, Midfielder, or Defender).\n",
    "<li>Drop null rows.\n",
    "<li>Cast all values to integers."
   ]
  },
  {
   "cell_type": "markdown",
   "id": "c05adc96",
   "metadata": {},
   "source": [
    "<p>Total number of features: 28\n",
    "\n",
    "Reduced our row count from 10,003,590 to 8,882,438.<p>"
   ]
  },
  {
   "cell_type": "code",
   "execution_count": 4,
   "id": "ce6521ae",
   "metadata": {},
   "outputs": [
    {
     "data": {
      "text/html": [
       "<div>\n",
       "<style scoped>\n",
       "    .dataframe tbody tr th:only-of-type {\n",
       "        vertical-align: middle;\n",
       "    }\n",
       "\n",
       "    .dataframe tbody tr th {\n",
       "        vertical-align: top;\n",
       "    }\n",
       "\n",
       "    .dataframe thead th {\n",
       "        text-align: right;\n",
       "    }\n",
       "</style>\n",
       "<table border=\"1\" class=\"dataframe\">\n",
       "  <thead>\n",
       "    <tr style=\"text-align: right;\">\n",
       "      <th></th>\n",
       "      <th>pace</th>\n",
       "      <th>shooting</th>\n",
       "      <th>passing</th>\n",
       "      <th>dribbling</th>\n",
       "      <th>defending</th>\n",
       "      <th>attacking_crossing</th>\n",
       "      <th>attacking_finishing</th>\n",
       "      <th>attacking_heading_accuracy</th>\n",
       "      <th>attacking_short_passing</th>\n",
       "      <th>attacking_volleys</th>\n",
       "      <th>...</th>\n",
       "      <th>power_shot_power</th>\n",
       "      <th>power_stamina</th>\n",
       "      <th>power_long_shots</th>\n",
       "      <th>mentality_interceptions</th>\n",
       "      <th>mentality_positioning</th>\n",
       "      <th>mentality_penalties</th>\n",
       "      <th>defending_marking_awareness</th>\n",
       "      <th>defending_standing_tackle</th>\n",
       "      <th>defending_sliding_tackle</th>\n",
       "      <th>label_position</th>\n",
       "    </tr>\n",
       "  </thead>\n",
       "  <tbody>\n",
       "    <tr>\n",
       "      <th>0</th>\n",
       "      <td>81</td>\n",
       "      <td>89</td>\n",
       "      <td>90</td>\n",
       "      <td>94</td>\n",
       "      <td>34</td>\n",
       "      <td>84</td>\n",
       "      <td>90</td>\n",
       "      <td>70</td>\n",
       "      <td>91</td>\n",
       "      <td>88</td>\n",
       "      <td>...</td>\n",
       "      <td>86</td>\n",
       "      <td>70</td>\n",
       "      <td>91</td>\n",
       "      <td>40</td>\n",
       "      <td>93</td>\n",
       "      <td>75</td>\n",
       "      <td>20</td>\n",
       "      <td>35</td>\n",
       "      <td>24</td>\n",
       "      <td>Forward</td>\n",
       "    </tr>\n",
       "    <tr>\n",
       "      <th>1</th>\n",
       "      <td>80</td>\n",
       "      <td>88</td>\n",
       "      <td>83</td>\n",
       "      <td>87</td>\n",
       "      <td>39</td>\n",
       "      <td>75</td>\n",
       "      <td>92</td>\n",
       "      <td>90</td>\n",
       "      <td>89</td>\n",
       "      <td>88</td>\n",
       "      <td>...</td>\n",
       "      <td>87</td>\n",
       "      <td>82</td>\n",
       "      <td>80</td>\n",
       "      <td>39</td>\n",
       "      <td>92</td>\n",
       "      <td>84</td>\n",
       "      <td>43</td>\n",
       "      <td>24</td>\n",
       "      <td>18</td>\n",
       "      <td>Forward</td>\n",
       "    </tr>\n",
       "    <tr>\n",
       "      <th>2</th>\n",
       "      <td>75</td>\n",
       "      <td>91</td>\n",
       "      <td>79</td>\n",
       "      <td>86</td>\n",
       "      <td>44</td>\n",
       "      <td>71</td>\n",
       "      <td>94</td>\n",
       "      <td>91</td>\n",
       "      <td>84</td>\n",
       "      <td>89</td>\n",
       "      <td>...</td>\n",
       "      <td>91</td>\n",
       "      <td>76</td>\n",
       "      <td>84</td>\n",
       "      <td>49</td>\n",
       "      <td>94</td>\n",
       "      <td>90</td>\n",
       "      <td>35</td>\n",
       "      <td>42</td>\n",
       "      <td>19</td>\n",
       "      <td>Forward</td>\n",
       "    </tr>\n",
       "    <tr>\n",
       "      <th>3</th>\n",
       "      <td>74</td>\n",
       "      <td>88</td>\n",
       "      <td>93</td>\n",
       "      <td>87</td>\n",
       "      <td>63</td>\n",
       "      <td>94</td>\n",
       "      <td>85</td>\n",
       "      <td>55</td>\n",
       "      <td>93</td>\n",
       "      <td>83</td>\n",
       "      <td>...</td>\n",
       "      <td>92</td>\n",
       "      <td>89</td>\n",
       "      <td>91</td>\n",
       "      <td>64</td>\n",
       "      <td>88</td>\n",
       "      <td>83</td>\n",
       "      <td>65</td>\n",
       "      <td>65</td>\n",
       "      <td>53</td>\n",
       "      <td>Midfielder</td>\n",
       "    </tr>\n",
       "    <tr>\n",
       "      <th>4</th>\n",
       "      <td>97</td>\n",
       "      <td>89</td>\n",
       "      <td>80</td>\n",
       "      <td>92</td>\n",
       "      <td>36</td>\n",
       "      <td>78</td>\n",
       "      <td>93</td>\n",
       "      <td>72</td>\n",
       "      <td>85</td>\n",
       "      <td>83</td>\n",
       "      <td>...</td>\n",
       "      <td>88</td>\n",
       "      <td>87</td>\n",
       "      <td>82</td>\n",
       "      <td>38</td>\n",
       "      <td>92</td>\n",
       "      <td>80</td>\n",
       "      <td>26</td>\n",
       "      <td>34</td>\n",
       "      <td>32</td>\n",
       "      <td>Forward</td>\n",
       "    </tr>\n",
       "    <tr>\n",
       "      <th>5</th>\n",
       "      <td>90</td>\n",
       "      <td>89</td>\n",
       "      <td>82</td>\n",
       "      <td>90</td>\n",
       "      <td>45</td>\n",
       "      <td>80</td>\n",
       "      <td>93</td>\n",
       "      <td>59</td>\n",
       "      <td>84</td>\n",
       "      <td>84</td>\n",
       "      <td>...</td>\n",
       "      <td>83</td>\n",
       "      <td>87</td>\n",
       "      <td>85</td>\n",
       "      <td>55</td>\n",
       "      <td>92</td>\n",
       "      <td>86</td>\n",
       "      <td>38</td>\n",
       "      <td>43</td>\n",
       "      <td>41</td>\n",
       "      <td>Forward</td>\n",
       "    </tr>\n",
       "    <tr>\n",
       "      <th>6</th>\n",
       "      <td>87</td>\n",
       "      <td>83</td>\n",
       "      <td>85</td>\n",
       "      <td>93</td>\n",
       "      <td>37</td>\n",
       "      <td>83</td>\n",
       "      <td>83</td>\n",
       "      <td>63</td>\n",
       "      <td>85</td>\n",
       "      <td>86</td>\n",
       "      <td>...</td>\n",
       "      <td>79</td>\n",
       "      <td>79</td>\n",
       "      <td>81</td>\n",
       "      <td>37</td>\n",
       "      <td>86</td>\n",
       "      <td>91</td>\n",
       "      <td>35</td>\n",
       "      <td>32</td>\n",
       "      <td>29</td>\n",
       "      <td>Forward</td>\n",
       "    </tr>\n",
       "    <tr>\n",
       "      <th>7</th>\n",
       "      <td>63</td>\n",
       "      <td>73</td>\n",
       "      <td>78</td>\n",
       "      <td>73</td>\n",
       "      <td>88</td>\n",
       "      <td>62</td>\n",
       "      <td>64</td>\n",
       "      <td>81</td>\n",
       "      <td>84</td>\n",
       "      <td>65</td>\n",
       "      <td>...</td>\n",
       "      <td>88</td>\n",
       "      <td>88</td>\n",
       "      <td>81</td>\n",
       "      <td>88</td>\n",
       "      <td>75</td>\n",
       "      <td>66</td>\n",
       "      <td>90</td>\n",
       "      <td>88</td>\n",
       "      <td>87</td>\n",
       "      <td>Midfielder</td>\n",
       "    </tr>\n",
       "    <tr>\n",
       "      <th>8</th>\n",
       "      <td>69</td>\n",
       "      <td>91</td>\n",
       "      <td>83</td>\n",
       "      <td>83</td>\n",
       "      <td>47</td>\n",
       "      <td>80</td>\n",
       "      <td>93</td>\n",
       "      <td>85</td>\n",
       "      <td>84</td>\n",
       "      <td>87</td>\n",
       "      <td>...</td>\n",
       "      <td>92</td>\n",
       "      <td>83</td>\n",
       "      <td>86</td>\n",
       "      <td>44</td>\n",
       "      <td>94</td>\n",
       "      <td>92</td>\n",
       "      <td>50</td>\n",
       "      <td>36</td>\n",
       "      <td>38</td>\n",
       "      <td>Forward</td>\n",
       "    </tr>\n",
       "    <tr>\n",
       "      <th>9</th>\n",
       "      <td>81</td>\n",
       "      <td>60</td>\n",
       "      <td>71</td>\n",
       "      <td>72</td>\n",
       "      <td>90</td>\n",
       "      <td>53</td>\n",
       "      <td>52</td>\n",
       "      <td>86</td>\n",
       "      <td>79</td>\n",
       "      <td>45</td>\n",
       "      <td>...</td>\n",
       "      <td>81</td>\n",
       "      <td>74</td>\n",
       "      <td>64</td>\n",
       "      <td>89</td>\n",
       "      <td>47</td>\n",
       "      <td>62</td>\n",
       "      <td>91</td>\n",
       "      <td>91</td>\n",
       "      <td>86</td>\n",
       "      <td>Defender</td>\n",
       "    </tr>\n",
       "  </tbody>\n",
       "</table>\n",
       "<p>10 rows × 28 columns</p>\n",
       "</div>"
      ],
      "text/plain": [
       "   pace  shooting  passing  dribbling  defending  attacking_crossing  \\\n",
       "0    81        89       90         94         34                  84   \n",
       "1    80        88       83         87         39                  75   \n",
       "2    75        91       79         86         44                  71   \n",
       "3    74        88       93         87         63                  94   \n",
       "4    97        89       80         92         36                  78   \n",
       "5    90        89       82         90         45                  80   \n",
       "6    87        83       85         93         37                  83   \n",
       "7    63        73       78         73         88                  62   \n",
       "8    69        91       83         83         47                  80   \n",
       "9    81        60       71         72         90                  53   \n",
       "\n",
       "   attacking_finishing  attacking_heading_accuracy  attacking_short_passing  \\\n",
       "0                   90                          70                       91   \n",
       "1                   92                          90                       89   \n",
       "2                   94                          91                       84   \n",
       "3                   85                          55                       93   \n",
       "4                   93                          72                       85   \n",
       "5                   93                          59                       84   \n",
       "6                   83                          63                       85   \n",
       "7                   64                          81                       84   \n",
       "8                   93                          85                       84   \n",
       "9                   52                          86                       79   \n",
       "\n",
       "   attacking_volleys  ...  power_shot_power  power_stamina  power_long_shots  \\\n",
       "0                 88  ...                86             70                91   \n",
       "1                 88  ...                87             82                80   \n",
       "2                 89  ...                91             76                84   \n",
       "3                 83  ...                92             89                91   \n",
       "4                 83  ...                88             87                82   \n",
       "5                 84  ...                83             87                85   \n",
       "6                 86  ...                79             79                81   \n",
       "7                 65  ...                88             88                81   \n",
       "8                 87  ...                92             83                86   \n",
       "9                 45  ...                81             74                64   \n",
       "\n",
       "   mentality_interceptions  mentality_positioning  mentality_penalties  \\\n",
       "0                       40                     93                   75   \n",
       "1                       39                     92                   84   \n",
       "2                       49                     94                   90   \n",
       "3                       64                     88                   83   \n",
       "4                       38                     92                   80   \n",
       "5                       55                     92                   86   \n",
       "6                       37                     86                   91   \n",
       "7                       88                     75                   66   \n",
       "8                       44                     94                   92   \n",
       "9                       89                     47                   62   \n",
       "\n",
       "   defending_marking_awareness  defending_standing_tackle  \\\n",
       "0                           20                         35   \n",
       "1                           43                         24   \n",
       "2                           35                         42   \n",
       "3                           65                         65   \n",
       "4                           26                         34   \n",
       "5                           38                         43   \n",
       "6                           35                         32   \n",
       "7                           90                         88   \n",
       "8                           50                         36   \n",
       "9                           91                         91   \n",
       "\n",
       "   defending_sliding_tackle  label_position  \n",
       "0                        24         Forward  \n",
       "1                        18         Forward  \n",
       "2                        19         Forward  \n",
       "3                        53      Midfielder  \n",
       "4                        32         Forward  \n",
       "5                        41         Forward  \n",
       "6                        29         Forward  \n",
       "7                        87      Midfielder  \n",
       "8                        38         Forward  \n",
       "9                        86        Defender  \n",
       "\n",
       "[10 rows x 28 columns]"
      ]
     },
     "metadata": {},
     "output_type": "display_data"
    }
   ],
   "source": [
    "players = players.select(\n",
    "        \"player_positions\",\n",
    "        \"pace\",\n",
    "        \"shooting\",\n",
    "        \"passing\",\n",
    "        \"dribbling\",\n",
    "        \"defending\",\n",
    "        \"attacking_crossing\",\n",
    "        \"attacking_finishing\",\n",
    "        \"attacking_heading_accuracy\",\n",
    "        \"attacking_short_passing\",\n",
    "        \"attacking_volleys\",\n",
    "        \"skill_dribbling\",\n",
    "        \"skill_fk_accuracy\",\n",
    "        \"skill_long_passing\",\n",
    "        \"skill_ball_control\",\n",
    "        \"movement_acceleration\",\n",
    "        \"movement_sprint_speed\",\n",
    "        \"movement_agility\",\n",
    "        \"movement_balance\",\n",
    "        \"power_shot_power\",\n",
    "        \"power_stamina\",\n",
    "        \"power_long_shots\",\n",
    "        \"mentality_interceptions\",\n",
    "        \"mentality_positioning\",\n",
    "        \"mentality_penalties\",\n",
    "        \"defending_marking_awareness\",\n",
    "        \"defending_standing_tackle\",\n",
    "        \"defending_sliding_tackle\",\n",
    "    )\n",
    "\n",
    "players = players.withColumn(\n",
    "        \"player_position\", split(players[\"player_positions\"], \",\")[0]\n",
    "    ).drop(\"player_positions\")\n",
    "\n",
    "players = players.filter(players.player_position != \"GK\")\n",
    "\n",
    "players = players.withColumn(\n",
    "        \"label_position\", label_conversion(players[\"player_position\"])\n",
    "    ).drop(\"player_position\").dropna()\n",
    "\n",
    "for col_name in players.columns:\n",
    "        if col_name != \"label_position\":\n",
    "            players = players.withColumn(col_name, col(col_name).cast(IntegerType()))\n",
    "\n",
    "sample = players.take(10)\n",
    "sample = pd.DataFrame(sample, columns=sample[0].__fields__)\n",
    "display(sample)"
   ]
  },
  {
   "cell_type": "markdown",
   "id": "18aebe1e",
   "metadata": {},
   "source": [
    "Dataset counts **3,266,866** Defenders, **3,712,577** Midfielders, and **1,902,995** Forwards."
   ]
  },
  {
   "cell_type": "markdown",
   "id": "425758a1",
   "metadata": {},
   "source": [
    "### 1.3 Data Sampling"
   ]
  },
  {
   "cell_type": "markdown",
   "id": "d7520c64",
   "metadata": {},
   "source": [
    "<p>As an attempt to improve results, we undersample the data to reduce class imbalance, returning <b>1,500,000</b> player values for each of the three classes (also easily splittable into two thirds training and one third testing).</p>"
   ]
  },
  {
   "cell_type": "code",
   "execution_count": 5,
   "id": "dae377ab",
   "metadata": {},
   "outputs": [],
   "source": [
    "defenders = players.filter(players.label_position == \"Defender\")\n",
    "midfielders = players.filter(players.label_position == \"Midfielder\")\n",
    "forwards = players.filter(players.label_position == \"Forward\")"
   ]
  },
  {
   "cell_type": "code",
   "execution_count": 6,
   "id": "08262aa8",
   "metadata": {},
   "outputs": [
    {
     "name": "stdout",
     "output_type": "stream",
     "text": [
      "Defenders: 1499208\n",
      "Midfielders: 1498360\n",
      "Forwards: 1500000\n",
      "Total number of sampled players: 4497568\n"
     ]
    }
   ],
   "source": [
    "defenders = defenders.sample(fraction=1500000 / defenders.count()).limit(1500000)\n",
    "midfielders = midfielders.sample(fraction=1500000 / midfielders.count()).limit(1500000)\n",
    "forwards = forwards.sample(fraction=1500000 / forwards.count()).limit(1500000)\n",
    "\n",
    "sampled_players = defenders.union(midfielders).union(forwards)\n",
    "\n",
    "print(\"Defenders: {}\".format(defenders.count()))\n",
    "print(\"Midfielders: {}\".format(midfielders.count()))\n",
    "print(\"Forwards: {}\".format(forwards.count()))\n",
    "print(\"Total number of sampled players: {}\".format(sampled_players.count()))"
   ]
  },
  {
   "cell_type": "markdown",
   "id": "0cdac400",
   "metadata": {},
   "source": [
    "## 2. Evaluation of Supervised Classification Algorithms"
   ]
  },
  {
   "cell_type": "markdown",
   "id": "e414232d",
   "metadata": {},
   "source": [
    "<p>The male_players.csv dataset is used to train a Decision Tree model, a Random Forest Model, and a K-nearest neighbors (KNN) model . The dataset is first preprocessed by encoding the categorical label data to a numerical values column. Next, these models are trained on a training set that consists of 2/3 of the dataset, and evaluated by the remaining 1/3 of the dataset, the test set, to evaluate the performance of the trained model. Lastly, a classification report and confusion matrix is generated to assess the accuracy and quality of the trained models.</p>"
   ]
  },
  {
   "cell_type": "code",
   "execution_count": 7,
   "id": "8d52f29b",
   "metadata": {},
   "outputs": [],
   "source": [
    "def evaluation(testSetLabels, predictions, features):\n",
    "    # Compute evaluation metrics\n",
    "    cr = classification_report(testSetLabels,predictions, target_names= features, output_dict=True)\n",
    "    report_df = pd.DataFrame.from_dict(cr).transpose()\n",
    "    print(\"Classification Report:\")\n",
    "    print(report_df)\n",
    "    cm = confusion_matrix(testSetLabels, predictions)\n",
    "    print(\"\\nConfusion Matrix\")\n",
    "    disp = ConfusionMatrixDisplay(confusion_matrix=cm, display_labels = features)\n",
    "    disp.plot()\n",
    "    pl.show()\n",
    "    "
   ]
  },
  {
   "cell_type": "markdown",
   "id": "419676ea",
   "metadata": {},
   "source": [
    "## 2.1 Evaluation Of Entire Dataset"
   ]
  },
  {
   "cell_type": "markdown",
   "id": "e275f8b7",
   "metadata": {},
   "source": [
    "<p><b>Note: </b>In order to be able to process the entire dataset, we have decided to use Apache Parquet, which can generate lower storage costs for data and maximize the effectiveness of data queries. This allows a large amount of data to fit in memory, reducing the time for swapping data from disks. We therefore save the training set and test set as a .parquet:"
   ]
  },
  {
   "cell_type": "code",
   "execution_count": 8,
   "id": "e44761ba",
   "metadata": {
    "scrolled": true
   },
   "outputs": [
    {
     "name": "stdout",
     "output_type": "stream",
     "text": [
      "[17:44:43.486635] ------- Using the entire dataset -------\n",
      "[17:44:43.486635] Loading dataset...\n",
      "[17:44:44.449880] Finished loading dataset. Training set: 5951580 rows, Test set: 2930858 rows.\n"
     ]
    }
   ],
   "source": [
    "players = data_preparation(\n",
    "    \"../data/male_players1.csv\",\n",
    "    \"../data/male_players2.csv\",\n",
    "    \"../data/male_players3.csv\",\n",
    "    \"../data/male_players4.csv\",\n",
    "    \"../data/male_players5.csv\",\n",
    "    \"../data/male_players6.csv\",\n",
    ")\n",
    "cleanup_data_and_store_as_parquet(players)\n",
    "printf(\"------- Using the entire dataset -------\")\n",
    "printf(\"Loading dataset...\")\n",
    "\n",
    "trainingSet = pd.read_parquet('../data/male_players_cleaned_training')\n",
    "testSet = pd.read_parquet('../data/male_players_cleaned_test')\n",
    "printf(\n",
    "    f\"Finished loading dataset. Training set: {trainingSet.shape[0]} rows, Test set: {testSet.shape[0]} rows.\"\n",
    ")\n",
    "\n",
    "trainingSetLabels = trainingSet.iloc[:, -1:].values.ravel()\n",
    "# Drop the column \"label_positions\" of the training set\n",
    "trainingSet = trainingSet.iloc[:, :-1]\n",
    "\n",
    "testSetLabels = testSet.iloc[:, -1:].values.ravel()\n",
    "# Drop the column \"label_positions\" of the test set\n",
    "testSet = testSet.iloc[:, :-1]\n"
   ]
  },
  {
   "cell_type": "markdown",
   "id": "51665848",
   "metadata": {},
   "source": [
    "### 2.1.1 Decision Tree Evaluation With No Sampling"
   ]
  },
  {
   "cell_type": "code",
   "execution_count": 9,
   "id": "250408a5",
   "metadata": {},
   "outputs": [
    {
     "name": "stdout",
     "output_type": "stream",
     "text": [
      "[17:44:44.912023] Fitting Decision Tree model...\n",
      "[17:45:41.357423] Finished fitting model.\n",
      "[17:45:41.358426] Predicting test labels...\n",
      "[17:45:41.679973] Finished predictions.\n",
      "[17:45:41.680978] Evaluating predictions...\n",
      "\n",
      "Classification Report:\n",
      "              precision    recall  f1-score       support\n",
      "Defender       0.898003  0.892969  0.895479  1.078477e+06\n",
      "Forward        0.877276  0.751849  0.809734  6.276540e+05\n",
      "Midfielder     0.797599  0.859978  0.827615  1.224727e+06\n",
      "accuracy       0.848961  0.848961  0.848961  8.489613e-01\n",
      "macro avg      0.857626  0.834932  0.844276  2.930858e+06\n",
      "weighted avg   0.851608  0.848961  0.848758  2.930858e+06\n",
      "\n",
      "Confusion Matrix\n"
     ]
    },
    {
     "data": {
      "image/png": "[encoded data removed]",
      "text/plain": [
       "<Figure size 640x480 with 2 Axes>"
      ]
     },
     "metadata": {},
     "output_type": "display_data"
    }
   ],
   "source": [
    "dt_model = DecisionTreeClassifier(criterion=\"entropy\", max_depth=7)\n",
    "dt_predictions = predict(dt_model, \"Decision Tree\", trainingSet, testSet, trainingSetLabels)\n",
    "\n",
    "printf(\"Evaluating predictions...\\n\")\n",
    "evaluation(testSetLabels,dt_predictions, dt_model.classes_)"
   ]
  },
  {
   "cell_type": "markdown",
   "id": "aef38b41",
   "metadata": {},
   "source": [
    "### 2.1.2 Random Forest Evaluation With No Sampling"
   ]
  },
  {
   "cell_type": "code",
   "execution_count": 10,
   "id": "ac35edec",
   "metadata": {},
   "outputs": [
    {
     "name": "stdout",
     "output_type": "stream",
     "text": [
      "[17:47:00.713943] Fitting Random Forest model...\n",
      "[18:01:05.310047] Finished fitting model.\n",
      "[18:01:05.310047] Predicting test labels...\n",
      "[18:01:24.184363] Finished predictions.\n",
      "[18:01:24.185372] Evaluating predictions...\n",
      "\n",
      "Classification Report:\n",
      "              precision    recall  f1-score       support\n",
      "Defender       0.907068  0.927982  0.917406  1.078477e+06\n",
      "Forward        0.884177  0.787144  0.832843  6.276540e+05\n",
      "Midfielder     0.835043  0.865053  0.849783  1.224727e+06\n",
      "accuracy       0.871525  0.871525  0.871525  8.715247e-01\n",
      "macro avg      0.875429  0.860060  0.866677  2.930858e+06\n",
      "weighted avg   0.872068  0.871525  0.871039  2.930858e+06\n",
      "\n",
      "Confusion Matrix\n"
     ]
    },
    {
     "data": {
      "image/png": "[encoded data removed]",
      "text/plain": [
       "<Figure size 640x480 with 2 Axes>"
      ]
     },
     "metadata": {},
     "output_type": "display_data"
    }
   ],
   "source": [
    "rf_model = RandomForestClassifier(max_depth=7, random_state=0)\n",
    "rf_predictions = predict(rf_model, \"Random Forest\", trainingSet, testSet, trainingSetLabels)\n",
    "\n",
    "printf(\"Evaluating predictions...\\n\")\n",
    "evaluation(testSetLabels,rf_predictions, rf_model.classes_)"
   ]
  },
  {
   "cell_type": "markdown",
   "id": "cc550999",
   "metadata": {},
   "source": [
    "### 2.1.3 K-Nearest Neighbors Evaluation With No Sampling"
   ]
  },
  {
   "cell_type": "code",
   "execution_count": 11,
   "id": "5e39ad76",
   "metadata": {},
   "outputs": [
    {
     "name": "stdout",
     "output_type": "stream",
     "text": [
      "[18:02:42.921072] Fitting KNN model...\n",
      "[18:03:38.098043] Finished fitting model.\n",
      "[18:03:38.098043] Predicting test labels...\n",
      "[18:06:52.750625] Finished predictions.\n",
      "[18:06:52.751626] Evaluating predictions...\n",
      "\n",
      "Classification Report:\n",
      "              precision    recall  f1-score       support\n",
      "Defender       0.997006  0.998055  0.997530  1.078477e+06\n",
      "Forward        0.990995  0.988514  0.989753  6.276540e+05\n",
      "Midfielder     0.992587  0.992941  0.992764  1.224727e+06\n",
      "accuracy       0.993875  0.993875  0.993875  9.938748e-01\n",
      "macro avg      0.993529  0.993170  0.993349  2.930858e+06\n",
      "weighted avg   0.993872  0.993875  0.993873  2.930858e+06\n",
      "\n",
      "Confusion Matrix\n"
     ]
    },
    {
     "data": {
      "image/png": "[encoded data removed]",
      "text/plain": [
       "<Figure size 640x480 with 2 Axes>"
      ]
     },
     "metadata": {},
     "output_type": "display_data"
    }
   ],
   "source": [
    "knn_model = KNeighborsClassifier(n_neighbors=3, algorithm='kd_tree', n_jobs=-1)\n",
    "knn_predictions = predict(knn_model, \"KNN\", trainingSet, testSet, trainingSetLabels)\n",
    "\n",
    "printf(\"Evaluating predictions...\\n\")\n",
    "evaluation(testSetLabels,knn_predictions, knn_model.classes_)"
   ]
  },
  {
   "cell_type": "markdown",
   "id": "5d5ffc20",
   "metadata": {},
   "source": [
    "## 2.2 Evaluation Of Undersampled Dataset"
   ]
  },
  {
   "cell_type": "markdown",
   "id": "dea4442d",
   "metadata": {},
   "source": [
    "We again begin by storing the sampled dataset as a .parquet."
   ]
  },
  {
   "cell_type": "code",
   "execution_count": 12,
   "id": "fc4ccc36",
   "metadata": {},
   "outputs": [
    {
     "name": "stdout",
     "output_type": "stream",
     "text": [
      "[18:11:17.326049] ------- Using the undersampled dataset -------\n",
      "[18:11:17.327045] Loading dataset...\n",
      "[18:11:17.890172] Finished loading dataset. Training set: 3016384 rows, Test set: 1482658 rows.\n"
     ]
    }
   ],
   "source": [
    "sampled_players = sampled_data()\n",
    "cleanup_data_and_store_as_parquet(sampled_players)\n",
    "printf(\"------- Using the undersampled dataset -------\")\n",
    "printf(\"Loading dataset...\")\n",
    "\n",
    "trainingSet = pd.read_parquet('../data/male_players_cleaned_training')\n",
    "testSet = pd.read_parquet('../data/male_players_cleaned_test')\n",
    "printf(\n",
    "    f\"Finished loading dataset. Training set: {trainingSet.shape[0]} rows, Test set: {testSet.shape[0]} rows.\"\n",
    ")\n",
    "\n",
    "trainingSetLabels = trainingSet.iloc[:, -1:].values.ravel()\n",
    "# Drop the column \"label_positions\" of the training set\n",
    "trainingSet = trainingSet.iloc[:, :-1]\n",
    "\n",
    "testSetLabels = testSet.iloc[:, -1:].values.ravel()\n",
    "# Drop the column \"label_positions\" of the test set\n",
    "testSet = testSet.iloc[:, :-1]\n"
   ]
  },
  {
   "cell_type": "markdown",
   "id": "10dff164",
   "metadata": {},
   "source": [
    "### 2.2.1 Decision Tree Evaluation With Undersampling"
   ]
  },
  {
   "cell_type": "code",
   "execution_count": 13,
   "id": "f8670fb6",
   "metadata": {},
   "outputs": [
    {
     "name": "stdout",
     "output_type": "stream",
     "text": [
      "[18:11:18.101215] Fitting Decision Tree model...\n",
      "[18:11:40.824222] Finished fitting model.\n",
      "[18:11:40.825223] Predicting test labels...\n",
      "[18:11:40.966289] Finished predictions.\n",
      "[18:11:40.973285] Evaluating predictions...\n",
      "\n",
      "Classification Report:\n",
      "              precision    recall  f1-score       support\n",
      "Defender       0.899441  0.892172  0.895792  4.944540e+05\n",
      "Forward        0.873003  0.859966  0.866435  4.940020e+05\n",
      "Midfielder     0.762674  0.780225  0.771350  4.942020e+05\n",
      "accuracy       0.844127  0.844127  0.844127  8.441272e-01\n",
      "macro avg      0.845039  0.844121  0.844526  1.482658e+06\n",
      "weighted avg   0.845045  0.844127  0.844531  1.482658e+06\n",
      "\n",
      "Confusion Matrix\n"
     ]
    },
    {
     "data": {
      "image/png": "[encoded data removed]",
      "text/plain": [
       "<Figure size 640x480 with 2 Axes>"
      ]
     },
     "metadata": {},
     "output_type": "display_data"
    }
   ],
   "source": [
    "dt_model = DecisionTreeClassifier(criterion=\"entropy\", max_depth=7)\n",
    "dt_predictions = predict(dt_model, \"Decision Tree\", trainingSet, testSet, trainingSetLabels)\n",
    "\n",
    "printf(\"Evaluating predictions...\\n\")\n",
    "evaluation(testSetLabels,dt_predictions, dt_model.classes_)"
   ]
  },
  {
   "cell_type": "markdown",
   "id": "b28b51ef",
   "metadata": {},
   "source": [
    "### 2.2.2 Random Forest Evaluation With Undersampling"
   ]
  },
  {
   "cell_type": "code",
   "execution_count": 14,
   "id": "c35458a6",
   "metadata": {},
   "outputs": [
    {
     "name": "stdout",
     "output_type": "stream",
     "text": [
      "[18:12:18.259170] Fitting Random Forest model...\n",
      "[18:17:23.659846] Finished fitting model.\n",
      "[18:17:23.660847] Predicting test labels...\n",
      "[18:17:31.470940] Finished predictions.\n",
      "[18:17:31.476939] Evaluating predictions...\n",
      "\n",
      "Classification Report:\n",
      "              precision    recall  f1-score       support\n",
      "Defender       0.902455  0.939626  0.920666  4.944540e+05\n",
      "Forward        0.882068  0.880063  0.881065  4.940020e+05\n",
      "Midfielder     0.815769  0.784005  0.799572  4.942020e+05\n",
      "accuracy       0.867909  0.867909  0.867909  8.679089e-01\n",
      "macro avg      0.866764  0.867898  0.867101  1.482658e+06\n",
      "weighted avg   0.866768  0.867909  0.867108  1.482658e+06\n",
      "\n",
      "Confusion Matrix\n"
     ]
    },
    {
     "data": {
      "image/png": "[encoded data removed]",
      "text/plain": [
       "<Figure size 640x480 with 2 Axes>"
      ]
     },
     "metadata": {},
     "output_type": "display_data"
    }
   ],
   "source": [
    "rf_model = RandomForestClassifier(max_depth=7, random_state=0)\n",
    "rf_predictions = predict(rf_model, \"Random Forest\", trainingSet, testSet, trainingSetLabels)\n",
    "\n",
    "printf(\"Evaluating predictions...\\n\")\n",
    "evaluation(testSetLabels,rf_predictions, rf_model.classes_)"
   ]
  },
  {
   "cell_type": "markdown",
   "id": "8496e4bc",
   "metadata": {},
   "source": [
    "### 2.3.2 K-Nearest Neighbors Evaluation With Undersampling"
   ]
  },
  {
   "cell_type": "code",
   "execution_count": 15,
   "id": "eb66bdab",
   "metadata": {},
   "outputs": [
    {
     "name": "stdout",
     "output_type": "stream",
     "text": [
      "[18:18:09.278117] Fitting KNN model...\n",
      "[18:18:31.356170] Finished fitting model.\n",
      "[18:18:31.356170] Predicting test labels...\n",
      "[18:20:04.126757] Finished predictions.\n",
      "[18:20:04.132757] Evaluating predictions...\n",
      "\n",
      "Classification Report:\n",
      "              precision    recall  f1-score       support\n",
      "Defender       0.995280  0.998663  0.996968  4.944540e+05\n",
      "Forward        0.995617  0.983966  0.989757  4.940020e+05\n",
      "Midfielder     0.983159  0.991315  0.987220  4.942020e+05\n",
      "accuracy       0.991317  0.991317  0.991317  9.913169e-01\n",
      "macro avg      0.991352  0.991315  0.991315  1.482658e+06\n",
      "weighted avg   0.991352  0.991317  0.991316  1.482658e+06\n",
      "\n",
      "Confusion Matrix\n"
     ]
    },
    {
     "data": {
      "image/png": "[encoded data removed]",
      "text/plain": [
       "<Figure size 640x480 with 2 Axes>"
      ]
     },
     "metadata": {},
     "output_type": "display_data"
    }
   ],
   "source": [
    "knn_model = KNeighborsClassifier(n_neighbors=3, algorithm='kd_tree', n_jobs=-1)\n",
    "knn_predictions = predict(knn_model, \"KNN\", trainingSet, testSet, trainingSetLabels)\n",
    "\n",
    "printf(\"Evaluating predictions...\\n\")\n",
    "evaluation(testSetLabels,knn_predictions, knn_model.classes_)"
   ]
  }
 ],
 "metadata": {
  "kernelspec": {
   "display_name": "Python 3 (ipykernel)",
   "language": "python",
   "name": "python3"
  },
  "language_info": {
   "codemirror_mode": {
    "name": "ipython",
    "version": 3
   },
   "file_extension": ".py",
   "mimetype": "text/x-python",
   "name": "python",
   "nbconvert_exporter": "python",
   "pygments_lexer": "ipython3",
   "version": "3.10.7"
  }
 },
 "nbformat": 4,
 "nbformat_minor": 5
}
